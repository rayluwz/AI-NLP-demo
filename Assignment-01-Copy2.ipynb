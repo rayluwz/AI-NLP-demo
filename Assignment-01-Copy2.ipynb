{
 "cells": [
  {
   "cell_type": "markdown",
   "metadata": {},
   "source": [
    "## Lesson-01 Assignment"
   ]
  },
  {
   "cell_type": "markdown",
   "metadata": {},
   "source": [
    "#### 今天是2020年1月05日，今天世界上又多了一名AI工程师 :) "
   ]
  },
  {
   "cell_type": "markdown",
   "metadata": {},
   "source": [
    "`各位同学大家好，欢迎各位开始学习我们的人工智能课程。这门课程假设大家不具备机器学习和人工智能的知识，但是希望大家具备初级的Python编程能力。根据往期同学的实际反馈，我们课程的完结之后 能力能够超过80%的计算机人工智能/深度学习方向的硕士生的能力。`"
   ]
  },
  {
   "cell_type": "markdown",
   "metadata": {},
   "source": [
    "## 本次作业的内容"
   ]
  },
  {
   "cell_type": "markdown",
   "metadata": {},
   "source": [
    "#### 1. 复现课堂代码\n",
    "\n",
    "在本部分，你需要参照我们给大家的GitHub地址里边的课堂代码，结合课堂内容，复现内容。"
   ]
  },
  {
   "cell_type": "markdown",
   "metadata": {},
   "source": [
    "#### 2. 作业截止时间\n",
    "此次作业截止时间为 2020.01.12日"
   ]
  },
  {
   "cell_type": "markdown",
   "metadata": {},
   "source": [
    "#### 3. 完成以下问答和编程练习"
   ]
  },
  {
   "cell_type": "markdown",
   "metadata": {},
   "source": [
    ">"
   ]
  },
  {
   "cell_type": "markdown",
   "metadata": {},
   "source": [
    "## 基础理论部分"
   ]
  },
  {
   "cell_type": "markdown",
   "metadata": {},
   "source": [
    "> **评阅点**：每道题是否回答完整"
   ]
  },
  {
   "cell_type": "markdown",
   "metadata": {},
   "source": [
    "#### 0. Can you come up out 3 sceneraies which use AI methods? "
   ]
  },
  {
   "cell_type": "markdown",
   "metadata": {},
   "source": [
    "Ans: 人脸识别，陪护机器人，下围棋的机器人AlphaGo"
   ]
  },
  {
   "cell_type": "markdown",
   "metadata": {},
   "source": [
    "#### 1. How do we use Github; Why do we use Jupyter and Pycharm;"
   ]
  },
  {
   "cell_type": "markdown",
   "metadata": {},
   "source": [
    "Ans: Github，版本控制及代码共享。Jupyter and Pycharm，便捷的交互开发环境，代码补全、直接的调测反馈"
   ]
  },
  {
   "cell_type": "markdown",
   "metadata": {},
   "source": [
    "#### 2. What's the Probability Model?"
   ]
  },
  {
   "cell_type": "markdown",
   "metadata": {},
   "source": [
    "Ans:用于描述不同随机变量之间的数学关系的模型，例如NLP中描述文本中的词语与周边词语之间的条件概率。"
   ]
  },
  {
   "cell_type": "markdown",
   "metadata": {},
   "source": [
    "#### 3. Can you came up with some sceneraies at which we could use Probability Model?"
   ]
  },
  {
   "cell_type": "markdown",
   "metadata": {},
   "source": [
    "Ans:例如NLP中描述文本中的词语与周边词语之间的条件概率，天气预报中已知今天天气预测明天天气等"
   ]
  },
  {
   "cell_type": "markdown",
   "metadata": {},
   "source": [
    "#### 4. Why do we use probability and what's the difficult points for programming based on parsing and pattern match?"
   ]
  },
  {
   "cell_type": "markdown",
   "metadata": {},
   "source": [
    "Ans:概率统计基于数据，由数据产生。按语法产生会受限于语法的不规则性和无法穷尽。"
   ]
  },
  {
   "cell_type": "markdown",
   "metadata": {},
   "source": [
    "#### 5. What's the Language Model;"
   ]
  },
  {
   "cell_type": "markdown",
   "metadata": {},
   "source": [
    "Ans:统计语言模型是一个单词序列上的概率分布，对于一个给定长度为m的序列，求产生整个序列的概率 "
   ]
  },
  {
   "cell_type": "markdown",
   "metadata": {},
   "source": [
    "#### 6. Can you came up with some sceneraies at which we could use Language Model?\n"
   ]
  },
  {
   "cell_type": "markdown",
   "metadata": {},
   "source": [
    "Ans:语音识别，客服机器人等"
   ]
  },
  {
   "cell_type": "markdown",
   "metadata": {},
   "source": [
    "#### 7. What's the 1-gram language model;"
   ]
  },
  {
   "cell_type": "markdown",
   "metadata": {},
   "source": [
    "Ans:认为每个词语都独立，P（W1W2W3W4）=P(W1)P(W2)P(W3)P(W4)"
   ]
  },
  {
   "cell_type": "markdown",
   "metadata": {},
   "source": [
    "#### 8. What's the disadvantages and advantages of 1-gram language model;"
   ]
  },
  {
   "cell_type": "markdown",
   "metadata": {},
   "source": [
    "Ans:优点：简单，容易实现；缺点：简化过多，不考虑词语之间的关系，准确性很低"
   ]
  },
  {
   "cell_type": "markdown",
   "metadata": {},
   "source": [
    "#### 9. What't the 2-gram models;"
   ]
  },
  {
   "cell_type": "markdown",
   "metadata": {},
   "source": [
    "Ans:假定每个词语仅与相邻词语相关，P(W1W2W3W4)=P(W1|W2)P(W2|W3)P(W3|W4)P(W4)可大规模简化模型。"
   ]
  },
  {
   "cell_type": "markdown",
   "metadata": {},
   "source": [
    "## 编程实践部分"
   ]
  },
  {
   "cell_type": "markdown",
   "metadata": {},
   "source": [
    "#### 1. 设计你自己的句子生成器"
   ]
  },
  {
   "cell_type": "markdown",
   "metadata": {},
   "source": [
    "如何生成句子是一个很经典的问题，从1940s开始，图灵提出机器智能的时候，就使用的是人类能不能流畅和计算机进行对话。和计算机对话的一个前提是，计算机能够生成语言。\n",
    "\n",
    "计算机如何能生成语言是一个经典但是又很复杂的问题。 我们课程上为大家介绍的是一种基于规则（Rule Based）的生成方法。该方法虽然提出的时间早，但是现在依然在很多地方能够大显身手。值得说明的是，现在很多很实用的算法，都是很久之前提出的，例如，二分查找提出与1940s, Dijstra算法提出于1960s 等等。"
   ]
  },
  {
   "cell_type": "markdown",
   "metadata": {},
   "source": [
    "在著名的电视剧，电影《西部世界》中，这些机器人们语言生成的方法就是使用的SyntaxTree生成语言的方法。\n",
    "\n",
    "> \n",
    ">\n",
    "\n",
    "![WstWorld](https://timgsa.baidu.com/timg?image&quality=80&size=b9999_10000&sec=1569578233461&di=4adfa7597fb380e7cc0e67190bbd7605&imgtype=0&src=http%3A%2F%2Fs1.sinaimg.cn%2Flarge%2F006eYYfyzy76cmpG3Yb1f)\n",
    "\n",
    "> \n",
    ">"
   ]
  },
  {
   "cell_type": "markdown",
   "metadata": {},
   "source": [
    "在这一部分，需要各位同学首先定义自己的语言。 大家可以先想一个应用场景，然后在这个场景下，定义语法。例如：\n",
    "\n",
    "在西部世界里，一个”人类“的语言可以定义为：\n",
    "``` \n",
    "human = \"\"\"\n",
    "human = 自己 寻找 活动\n",
    "自己 = 我 | 俺 | 我们 \n",
    "寻找 = 看看 | 找找 | 想找点\n",
    "活动 = 乐子 | 玩的\n",
    "\"\"\"\n",
    "```\n",
    "\n",
    "一个“接待员”的语言可以定义为\n",
    "```\n",
    "host = \"\"\"\n",
    "host = 寒暄 报数 询问 业务相关 结尾 \n",
    "报数 = 我是 数字 号 ,\n",
    "数字 = 单个数字 | 数字 单个数字 \n",
    "单个数字 = 1 | 2 | 3 | 4 | 5 | 6 | 7 | 8 | 9 \n",
    "寒暄 = 称谓 打招呼 | 打招呼\n",
    "称谓 = 人称 ,\n",
    "人称 = 先生 | 女士 | 小朋友\n",
    "打招呼 = 你好 | 您好 \n",
    "询问 = 请问你要 | 您需要\n",
    "业务相关 = 玩玩 具体业务\n",
    "玩玩 = 耍一耍 | 玩一玩\n",
    "具体业务 = 喝酒 | 打牌 | 打猎 | 赌博\n",
    "结尾 = 吗？\"\"\"\n",
    "\n",
    "```\n",
    "\n",
    "\n"
   ]
  },
  {
   "cell_type": "markdown",
   "metadata": {},
   "source": [
    "请定义你自己的语法: "
   ]
  },
  {
   "cell_type": "markdown",
   "metadata": {},
   "source": [
    "第一个语法："
   ]
  },
  {
   "cell_type": "code",
   "execution_count": 1,
   "metadata": {},
   "outputs": [],
   "source": [
    "if_then = '''\n",
    "if_then = 条件 结果\n",
    "条件 = 前连词 前人称 前动作 \n",
    "结果 = 后连词 后人称 后动作\n",
    "前连词 = 如果 | 假如 | 假若 \n",
    "前人称 = 你 | 你们 | 他 | 他们\n",
    "前动作 = 搞破坏， | 做坏事， | 弄小动作， \n",
    "后连词 = 那么 | 那 | 呵呵，\n",
    "后人称 = 我 | 我们 | 大家\n",
    "后动作 = 不客气了。 | 要反击了。 | 动手了。\n",
    "'''\n"
   ]
  },
  {
   "cell_type": "markdown",
   "metadata": {},
   "source": [
    "> **评阅点**： 是否提出了和课程上区别较大的语法结构"
   ]
  },
  {
   "cell_type": "markdown",
   "metadata": {},
   "source": [
    "第二个语法："
   ]
  },
  {
   "cell_type": "code",
   "execution_count": 19,
   "metadata": {},
   "outputs": [],
   "source": [
    "xueyi = '''\n",
    "雪姨 = 陈述 骂街\n",
    "陈述 = 前称呼 动作 前宾语\n",
    "骂街 = 后称呼 动作 后宾语 结尾\n",
    "前称呼 = 小屁孩 | 小丫头 | 小家伙\n",
    "后称呼 = 你 | 侬 \n",
    "动作 = 有本事 | 有胆量 | 敢\n",
    "前宾语 = 勾男人， | 随地吐痰， | 开房，\n",
    "后宾语 = 开门 | 出来见我 | 接我电话 \n",
    "结尾 = 啊？ | 吗？\n",
    "'''"
   ]
  },
  {
   "cell_type": "markdown",
   "metadata": {},
   "source": [
    "> **评阅点**：是否和上一个语法区别比较大"
   ]
  },
  {
   "cell_type": "markdown",
   "metadata": {},
   "source": [
    "TODO: 然后，使用自己之前定义的generate函数，使用此函数生成句子。"
   ]
  },
  {
   "cell_type": "code",
   "execution_count": 20,
   "metadata": {},
   "outputs": [],
   "source": [
    "def create_grammar(grammar_str, split='=', line_split='\\n'):\n",
    "    grammar = {}\n",
    "    for line in grammar_str.split(line_split):\n",
    "        if not line.strip(): continue\n",
    "        exp, stmt = line.split(split)\n",
    "        grammar[exp.strip()] = [s.split() for s in stmt.split('|')]\n",
    "    return grammar"
   ]
  },
  {
   "cell_type": "markdown",
   "metadata": {},
   "source": [
    "TODO: 然后，定义一个函数，generate_n，将generate扩展，使其能够生成n个句子:"
   ]
  },
  {
   "cell_type": "code",
   "execution_count": 21,
   "metadata": {},
   "outputs": [],
   "source": [
    "xueyi_grammar = create_grammar(xueyi)"
   ]
  },
  {
   "cell_type": "code",
   "execution_count": 22,
   "metadata": {},
   "outputs": [
    {
     "data": {
      "text/plain": [
       "{'前宾语': [['勾男人，'], ['随地吐痰，'], ['开房，']],\n",
       " '前称呼': [['小屁孩'], ['小丫头'], ['小家伙']],\n",
       " '动作': [['有本事'], ['有胆量'], ['敢']],\n",
       " '后宾语': [['开门'], ['出来见我'], ['接我电话']],\n",
       " '后称呼': [['你'], ['侬']],\n",
       " '结尾': [['啊？'], ['吗？']],\n",
       " '陈述': [['前称呼', '动作', '前宾语']],\n",
       " '雪姨': [['陈述', '骂街']],\n",
       " '骂街': [['后称呼', '动作', '后宾语', '结尾']]}"
      ]
     },
     "execution_count": 22,
     "metadata": {},
     "output_type": "execute_result"
    }
   ],
   "source": [
    "xueyi_grammar"
   ]
  },
  {
   "cell_type": "code",
   "execution_count": 23,
   "metadata": {},
   "outputs": [],
   "source": [
    "import random\n",
    "choice = random.choice\n",
    "\n",
    "def generate2(gram, target):\n",
    "    if target not in gram: return target # means target is a terminal expression    \n",
    "    expaned = [generate2(gram, t) for t in choice(gram[target])]\n",
    "    kk=''\n",
    "    for e in expaned:\n",
    "        if e != 'null': \n",
    "            kk=kk+e   \n",
    "    return  kk"
   ]
  },
  {
   "cell_type": "code",
   "execution_count": 24,
   "metadata": {},
   "outputs": [
    {
     "data": {
      "text/plain": [
       "'小屁孩敢开房，侬有胆量接我电话啊？'"
      ]
     },
     "execution_count": 24,
     "metadata": {},
     "output_type": "execute_result"
    }
   ],
   "source": [
    "generate2(gram=xueyi_grammar, target='雪姨')"
   ]
  },
  {
   "cell_type": "code",
   "execution_count": 26,
   "metadata": {},
   "outputs": [],
   "source": [
    "def generate_n(gram, target, n=10):\n",
    "    statment=''\n",
    "    for i in range(n):\n",
    "        statment=statment+generate2(gram, target)+'\\n'\n",
    "    return statment\n",
    "    \n",
    "    "
   ]
  },
  {
   "cell_type": "code",
   "execution_count": 28,
   "metadata": {},
   "outputs": [],
   "source": [
    "xueyi_stat=generate_n(xueyi_grammar,'雪姨')"
   ]
  },
  {
   "cell_type": "code",
   "execution_count": 30,
   "metadata": {},
   "outputs": [
    {
     "name": "stdout",
     "output_type": "stream",
     "text": [
      "小丫头有胆量随地吐痰，你有胆量出来见我吗？\n",
      "小家伙敢勾男人，你有胆量接我电话啊？\n",
      "小家伙有胆量开房，你敢开门吗？\n",
      "小家伙有本事随地吐痰，你有本事出来见我吗？\n",
      "小家伙敢勾男人，你有本事开门啊？\n",
      "小家伙敢勾男人，侬敢出来见我吗？\n",
      "小家伙敢开房，侬敢接我电话吗？\n",
      "小丫头有胆量随地吐痰，侬有胆量接我电话吗？\n",
      "小屁孩敢开房，你有胆量开门啊？\n",
      "小屁孩有胆量勾男人，你有胆量出来见我吗？\n",
      "\n"
     ]
    }
   ],
   "source": [
    "print(xueyi_stat)"
   ]
  },
  {
   "cell_type": "code",
   "execution_count": 31,
   "metadata": {},
   "outputs": [],
   "source": [
    "ifthen_grammar = create_grammar(if_then)"
   ]
  },
  {
   "cell_type": "code",
   "execution_count": 32,
   "metadata": {},
   "outputs": [
    {
     "data": {
      "text/plain": [
       "{'if_then': [['条件', '结果']],\n",
       " '前人称': [['你'], ['你们'], ['他'], ['他们']],\n",
       " '前动作': [['搞破坏，'], ['做坏事，'], ['弄小动作，']],\n",
       " '前连词': [['如果'], ['假如'], ['假若']],\n",
       " '后人称': [['我'], ['我们'], ['大家']],\n",
       " '后动作': [['不客气了。'], ['要反击了。'], ['动手了。']],\n",
       " '后连词': [['那么'], ['那'], ['呵呵，']],\n",
       " '条件': [['前连词', '前人称', '前动作']],\n",
       " '结果': [['后连词', '后人称', '后动作']]}"
      ]
     },
     "execution_count": 32,
     "metadata": {},
     "output_type": "execute_result"
    }
   ],
   "source": [
    "ifthen_grammar"
   ]
  },
  {
   "cell_type": "code",
   "execution_count": 34,
   "metadata": {},
   "outputs": [
    {
     "name": "stdout",
     "output_type": "stream",
     "text": [
      "假若你们做坏事，那我们要反击了。\n",
      "如果你弄小动作，那我们动手了。\n",
      "假若他弄小动作，呵呵，大家要反击了。\n",
      "如果他们做坏事，那大家不客气了。\n",
      "假如你做坏事，呵呵，我们动手了。\n",
      "\n"
     ]
    }
   ],
   "source": [
    "ifthen_stat=generate_n(ifthen_grammar,'if_then',5)\n",
    "print(ifthen_stat)"
   ]
  },
  {
   "cell_type": "markdown",
   "metadata": {},
   "source": [
    "> **评阅点**; 运行代码，观察是否能够生成多个句子"
   ]
  },
  {
   "cell_type": "code",
   "execution_count": null,
   "metadata": {},
   "outputs": [],
   "source": [
    "#### 2. 使用新数据源完成语言模型的训练"
   ]
  },
  {
   "cell_type": "markdown",
   "metadata": {},
   "source": [
    "按照我们上文中定义的`prob_2`函数，我们更换一个文本数据源，获得新的Language Model:\n",
    "\n",
    "1. 下载文本数据集（你可以在以下数据集中任选一个，也可以两个都使用）\n",
    "    + 可选数据集1，保险行业问询对话集： https://github.com/Computing-Intelligence/insuranceqa-corpus-zh/raw/release/corpus/pool/train.txt.gz\n",
    "    + 可选数据集2：豆瓣评论数据集：https://github.com/Computing-Intelligence/datasource/raw/master/movie_comments.csv\n",
    "2. 修改代码，获得新的**2-gram**语言模型\n",
    "    + 进行文本清洗，获得所有的纯文本\n",
    "    + 将这些文本进行切词\n",
    "    + 送入之前定义的语言模型中，判断文本的合理程度"
   ]
  },
  {
   "cell_type": "code",
   "execution_count": 41,
   "metadata": {},
   "outputs": [],
   "source": [
    "filename =  'C:/Users/Ray/Downloads/movie_comments.txt '"
   ]
  },
  {
   "cell_type": "code",
   "execution_count": 42,
   "metadata": {},
   "outputs": [],
   "source": [
    "import pandas as pd"
   ]
  },
  {
   "cell_type": "code",
   "execution_count": 46,
   "metadata": {},
   "outputs": [],
   "source": [
    "content = pd.read_csv(filename, encoding='utf-8',low_memory=False)"
   ]
  },
  {
   "cell_type": "code",
   "execution_count": 47,
   "metadata": {},
   "outputs": [
    {
     "data": {
      "text/html": [
       "<div>\n",
       "<style scoped>\n",
       "    .dataframe tbody tr th:only-of-type {\n",
       "        vertical-align: middle;\n",
       "    }\n",
       "\n",
       "    .dataframe tbody tr th {\n",
       "        vertical-align: top;\n",
       "    }\n",
       "\n",
       "    .dataframe thead th {\n",
       "        text-align: right;\n",
       "    }\n",
       "</style>\n",
       "<table border=\"1\" class=\"dataframe\">\n",
       "  <thead>\n",
       "    <tr style=\"text-align: right;\">\n",
       "      <th></th>\n",
       "      <th>id</th>\n",
       "      <th>link</th>\n",
       "      <th>name</th>\n",
       "      <th>comment</th>\n",
       "      <th>star</th>\n",
       "    </tr>\n",
       "  </thead>\n",
       "  <tbody>\n",
       "    <tr>\n",
       "      <th>0</th>\n",
       "      <td>1</td>\n",
       "      <td>https://movie.douban.com/subject/26363254/</td>\n",
       "      <td>战狼2</td>\n",
       "      <td>吴京意淫到了脑残的地步，看了恶心想吐</td>\n",
       "      <td>1</td>\n",
       "    </tr>\n",
       "    <tr>\n",
       "      <th>1</th>\n",
       "      <td>2</td>\n",
       "      <td>https://movie.douban.com/subject/26363254/</td>\n",
       "      <td>战狼2</td>\n",
       "      <td>首映礼看的。太恐怖了这个电影，不讲道理的，完全就是吴京在实现他这个小粉红的英雄梦。各种装备轮...</td>\n",
       "      <td>2</td>\n",
       "    </tr>\n",
       "    <tr>\n",
       "      <th>2</th>\n",
       "      <td>3</td>\n",
       "      <td>https://movie.douban.com/subject/26363254/</td>\n",
       "      <td>战狼2</td>\n",
       "      <td>吴京的炒作水平不输冯小刚，但小刚至少不会用主旋律来炒作…吴京让人看了不舒服，为了主旋律而主旋...</td>\n",
       "      <td>2</td>\n",
       "    </tr>\n",
       "    <tr>\n",
       "      <th>3</th>\n",
       "      <td>4</td>\n",
       "      <td>https://movie.douban.com/subject/26363254/</td>\n",
       "      <td>战狼2</td>\n",
       "      <td>凭良心说，好看到不像《战狼1》的续集，完虐《湄公河行动》。</td>\n",
       "      <td>4</td>\n",
       "    </tr>\n",
       "    <tr>\n",
       "      <th>4</th>\n",
       "      <td>5</td>\n",
       "      <td>https://movie.douban.com/subject/26363254/</td>\n",
       "      <td>战狼2</td>\n",
       "      <td>中二得很</td>\n",
       "      <td>1</td>\n",
       "    </tr>\n",
       "  </tbody>\n",
       "</table>\n",
       "</div>"
      ],
      "text/plain": [
       "  id                                        link name  \\\n",
       "0  1  https://movie.douban.com/subject/26363254/  战狼2   \n",
       "1  2  https://movie.douban.com/subject/26363254/  战狼2   \n",
       "2  3  https://movie.douban.com/subject/26363254/  战狼2   \n",
       "3  4  https://movie.douban.com/subject/26363254/  战狼2   \n",
       "4  5  https://movie.douban.com/subject/26363254/  战狼2   \n",
       "\n",
       "                                             comment star  \n",
       "0                                 吴京意淫到了脑残的地步，看了恶心想吐    1  \n",
       "1  首映礼看的。太恐怖了这个电影，不讲道理的，完全就是吴京在实现他这个小粉红的英雄梦。各种装备轮...    2  \n",
       "2  吴京的炒作水平不输冯小刚，但小刚至少不会用主旋律来炒作…吴京让人看了不舒服，为了主旋律而主旋...    2  \n",
       "3                      凭良心说，好看到不像《战狼1》的续集，完虐《湄公河行动》。    4  \n",
       "4                                               中二得很    1  "
      ]
     },
     "execution_count": 47,
     "metadata": {},
     "output_type": "execute_result"
    }
   ],
   "source": [
    "content.head()"
   ]
  },
  {
   "cell_type": "code",
   "execution_count": 51,
   "metadata": {},
   "outputs": [],
   "source": [
    "articles = content['comment'].tolist()"
   ]
  },
  {
   "cell_type": "code",
   "execution_count": 52,
   "metadata": {},
   "outputs": [
    {
     "data": {
      "text/plain": [
       "261497"
      ]
     },
     "execution_count": 52,
     "metadata": {},
     "output_type": "execute_result"
    }
   ],
   "source": [
    "len(articles)"
   ]
  },
  {
   "cell_type": "markdown",
   "metadata": {},
   "source": [
    "> **评阅点** 1. 是否使用了新的数据集； 2. csv(txt)数据是否正确解析"
   ]
  },
  {
   "cell_type": "code",
   "execution_count": 53,
   "metadata": {},
   "outputs": [],
   "source": [
    "import re\n",
    "def token(string):\n",
    "    # we will learn the regular expression next course.\n",
    "    return re.findall('\\w+', string)"
   ]
  },
  {
   "cell_type": "code",
   "execution_count": 57,
   "metadata": {},
   "outputs": [],
   "source": [
    "from collections import Counter\n"
   ]
  },
  {
   "cell_type": "code",
   "execution_count": 65,
   "metadata": {},
   "outputs": [],
   "source": [
    "def pip_list():\n",
    "\n",
    "    print(pip.main(['list']))"
   ]
  },
  {
   "cell_type": "code",
   "execution_count": 82,
   "metadata": {},
   "outputs": [],
   "source": [
    "import jieba\n",
    "with_jieba_cut = Counter(jieba.cut(articles[6000]))"
   ]
  },
  {
   "cell_type": "code",
   "execution_count": 83,
   "metadata": {},
   "outputs": [
    {
     "data": {
      "text/plain": [
       "[('片尾', 1),\n",
       " ('音乐', 1),\n",
       " ('响起', 1),\n",
       " ('泪目', 1),\n",
       " ('，', 1),\n",
       " ('怎么', 1),\n",
       " ('说', 1),\n",
       " ('的', 1),\n",
       " ('出', 1),\n",
       " ('再见', 1)]"
      ]
     },
     "execution_count": 83,
     "metadata": {},
     "output_type": "execute_result"
    }
   ],
   "source": [
    "with_jieba_cut.most_common()[:10]"
   ]
  },
  {
   "cell_type": "code",
   "execution_count": 73,
   "metadata": {},
   "outputs": [],
   "source": [
    "articles_clean = [''.join(token(str(a)))for a in articles]"
   ]
  },
  {
   "cell_type": "code",
   "execution_count": 74,
   "metadata": {},
   "outputs": [
    {
     "data": {
      "text/plain": [
       "261497"
      ]
     },
     "execution_count": 74,
     "metadata": {},
     "output_type": "execute_result"
    }
   ],
   "source": [
    "len(articles_clean)"
   ]
  },
  {
   "cell_type": "code",
   "execution_count": 88,
   "metadata": {},
   "outputs": [],
   "source": [
    "import codecs\n",
    "with codecs.open('article_261k.txt','a',encoding='utf-8') as f:\n",
    "    for a in articles_clean:\n",
    "        f.write(a + '\\n')"
   ]
  },
  {
   "cell_type": "code",
   "execution_count": 89,
   "metadata": {},
   "outputs": [],
   "source": [
    "def cut(string): return list(jieba.cut(string))"
   ]
  },
  {
   "cell_type": "code",
   "execution_count": 90,
   "metadata": {},
   "outputs": [],
   "source": [
    "TOKEN = []"
   ]
  },
  {
   "cell_type": "code",
   "execution_count": 92,
   "metadata": {},
   "outputs": [
    {
     "name": "stdout",
     "output_type": "stream",
     "text": [
      "0\n",
      "1000\n",
      "2000\n",
      "3000\n",
      "4000\n",
      "5000\n",
      "6000\n",
      "7000\n",
      "8000\n",
      "9000\n",
      "10000\n",
      "11000\n",
      "12000\n",
      "13000\n",
      "14000\n",
      "15000\n",
      "16000\n",
      "17000\n",
      "18000\n",
      "19000\n",
      "20000\n",
      "21000\n",
      "22000\n",
      "23000\n",
      "24000\n",
      "25000\n",
      "26000\n",
      "27000\n",
      "28000\n",
      "29000\n",
      "30000\n",
      "31000\n",
      "32000\n",
      "33000\n",
      "34000\n",
      "35000\n",
      "36000\n",
      "37000\n",
      "38000\n",
      "39000\n",
      "40000\n",
      "41000\n",
      "42000\n",
      "43000\n",
      "44000\n",
      "45000\n",
      "46000\n",
      "47000\n",
      "48000\n",
      "49000\n",
      "50000\n",
      "51000\n",
      "52000\n",
      "53000\n",
      "54000\n",
      "55000\n",
      "56000\n",
      "57000\n",
      "58000\n",
      "59000\n",
      "60000\n",
      "61000\n",
      "62000\n",
      "63000\n",
      "64000\n",
      "65000\n",
      "66000\n",
      "67000\n",
      "68000\n",
      "69000\n",
      "70000\n",
      "71000\n",
      "72000\n",
      "73000\n",
      "74000\n",
      "75000\n",
      "76000\n",
      "77000\n",
      "78000\n",
      "79000\n",
      "80000\n",
      "81000\n",
      "82000\n",
      "83000\n",
      "84000\n",
      "85000\n",
      "86000\n",
      "87000\n",
      "88000\n",
      "89000\n",
      "90000\n",
      "91000\n",
      "92000\n",
      "93000\n",
      "94000\n",
      "95000\n",
      "96000\n",
      "97000\n",
      "98000\n",
      "99000\n",
      "100000\n",
      "101000\n",
      "102000\n",
      "103000\n",
      "104000\n",
      "105000\n",
      "106000\n",
      "107000\n",
      "108000\n",
      "109000\n",
      "110000\n",
      "111000\n",
      "112000\n",
      "113000\n",
      "114000\n",
      "115000\n",
      "116000\n",
      "117000\n",
      "118000\n",
      "119000\n",
      "120000\n",
      "121000\n",
      "122000\n",
      "123000\n",
      "124000\n",
      "125000\n",
      "126000\n",
      "127000\n",
      "128000\n",
      "129000\n",
      "130000\n",
      "131000\n",
      "132000\n",
      "133000\n",
      "134000\n",
      "135000\n",
      "136000\n",
      "137000\n",
      "138000\n",
      "139000\n",
      "140000\n",
      "141000\n",
      "142000\n",
      "143000\n",
      "144000\n",
      "145000\n",
      "146000\n",
      "147000\n",
      "148000\n",
      "149000\n",
      "150000\n",
      "151000\n",
      "152000\n",
      "153000\n",
      "154000\n",
      "155000\n",
      "156000\n",
      "157000\n",
      "158000\n",
      "159000\n",
      "160000\n",
      "161000\n",
      "162000\n",
      "163000\n",
      "164000\n",
      "165000\n",
      "166000\n",
      "167000\n",
      "168000\n",
      "169000\n",
      "170000\n",
      "171000\n",
      "172000\n",
      "173000\n",
      "174000\n",
      "175000\n",
      "176000\n",
      "177000\n",
      "178000\n",
      "179000\n",
      "180000\n",
      "181000\n",
      "182000\n",
      "183000\n",
      "184000\n",
      "185000\n",
      "186000\n",
      "187000\n",
      "188000\n",
      "189000\n",
      "190000\n",
      "191000\n",
      "192000\n",
      "193000\n",
      "194000\n",
      "195000\n",
      "196000\n",
      "197000\n",
      "198000\n",
      "199000\n",
      "200000\n",
      "201000\n",
      "202000\n",
      "203000\n",
      "204000\n",
      "205000\n",
      "206000\n",
      "207000\n",
      "208000\n",
      "209000\n",
      "210000\n",
      "211000\n",
      "212000\n",
      "213000\n",
      "214000\n",
      "215000\n",
      "216000\n",
      "217000\n",
      "218000\n",
      "219000\n",
      "220000\n",
      "221000\n",
      "222000\n",
      "223000\n",
      "224000\n",
      "225000\n",
      "226000\n",
      "227000\n",
      "228000\n",
      "229000\n",
      "230000\n",
      "231000\n",
      "232000\n",
      "233000\n",
      "234000\n",
      "235000\n",
      "236000\n",
      "237000\n",
      "238000\n",
      "239000\n",
      "240000\n",
      "241000\n",
      "242000\n",
      "243000\n",
      "244000\n",
      "245000\n",
      "246000\n",
      "247000\n",
      "248000\n",
      "249000\n",
      "250000\n",
      "251000\n",
      "252000\n",
      "253000\n",
      "254000\n",
      "255000\n",
      "256000\n",
      "257000\n",
      "258000\n",
      "259000\n",
      "260000\n",
      "261000\n"
     ]
    }
   ],
   "source": [
    "for i, line in enumerate((open('article_261k.txt',encoding='utf-8'))):\n",
    "    if i % 1000 == 0: print(i)\n",
    "    TOKEN += cut(line)"
   ]
  },
  {
   "cell_type": "code",
   "execution_count": 93,
   "metadata": {},
   "outputs": [],
   "source": [
    "from functools import reduce\n",
    "from operator import add, mul\n",
    "from collections import Counter"
   ]
  },
  {
   "cell_type": "code",
   "execution_count": 94,
   "metadata": {},
   "outputs": [],
   "source": [
    "words_count = Counter(TOKEN)"
   ]
  },
  {
   "cell_type": "code",
   "execution_count": 96,
   "metadata": {},
   "outputs": [],
   "source": [
    "frequiences = [f for w, f in words_count.most_common(100000)]"
   ]
  },
  {
   "cell_type": "code",
   "execution_count": 97,
   "metadata": {},
   "outputs": [],
   "source": [
    "x = [i for i in range(100000)]"
   ]
  },
  {
   "cell_type": "code",
   "execution_count": 98,
   "metadata": {},
   "outputs": [
    {
     "data": {
      "text/plain": [
       "[<matplotlib.lines.Line2D at 0x1d2db7cfa58>]"
      ]
     },
     "execution_count": 98,
     "metadata": {},
     "output_type": "execute_result"
    },
    {
     "data": {
      "image/png": "[encoded data removed]",
      "text/plain": [
       "<matplotlib.figure.Figure at 0x1d2c539e668>"
      ]
     },
     "metadata": {},
     "output_type": "display_data"
    }
   ],
   "source": [
    "%matplotlib inline\n",
    "import matplotlib.pyplot as plt\n",
    "plt.plot(x, frequiences)"
   ]
  },
  {
   "cell_type": "code",
   "execution_count": 99,
   "metadata": {},
   "outputs": [
    {
     "data": {
      "text/plain": [
       "[<matplotlib.lines.Line2D at 0x1d2db66d630>]"
      ]
     },
     "execution_count": 99,
     "metadata": {},
     "output_type": "execute_result"
    },
    {
     "data": {
      "image/png": "[encoded data removed]",
      "text/plain": [
       "<matplotlib.figure.Figure at 0x1d2c532dbe0>"
      ]
     },
     "metadata": {},
     "output_type": "display_data"
    }
   ],
   "source": [
    "import numpy as np\n",
    "plt.plot(x, np.log(frequiences))"
   ]
  },
  {
   "cell_type": "code",
   "execution_count": 100,
   "metadata": {},
   "outputs": [],
   "source": [
    "def prob_1(word):\n",
    "    return words_count[word] / len(TOKEN)"
   ]
  },
  {
   "cell_type": "code",
   "execution_count": 102,
   "metadata": {},
   "outputs": [
    {
     "data": {
      "text/plain": [
       "['id', '\\n', 'link', '\\n', 'name', '\\n', 'comment', '\\n', 'star', '\\n']"
      ]
     },
     "execution_count": 102,
     "metadata": {},
     "output_type": "execute_result"
    }
   ],
   "source": [
    "TOKEN[:10]"
   ]
  },
  {
   "cell_type": "code",
   "execution_count": 103,
   "metadata": {},
   "outputs": [],
   "source": [
    "TOKEN = [str(t) for t in TOKEN]"
   ]
  },
  {
   "cell_type": "code",
   "execution_count": 104,
   "metadata": {},
   "outputs": [],
   "source": [
    "TOKEN_2_GRAM = [''.join(TOKEN[i:i+2]) for i in range(len(TOKEN[:-2]))]"
   ]
  },
  {
   "cell_type": "code",
   "execution_count": 106,
   "metadata": {},
   "outputs": [
    {
     "data": {
      "text/plain": [
       "['id\\n',\n",
       " '\\nlink',\n",
       " 'link\\n',\n",
       " '\\nname',\n",
       " 'name\\n',\n",
       " '\\ncomment',\n",
       " 'comment\\n',\n",
       " '\\nstar',\n",
       " 'star\\n',\n",
       " '\\n吴京',\n",
       " '吴京意淫',\n",
       " '意淫到',\n",
       " '到了',\n",
       " '了脑残',\n",
       " '脑残的',\n",
       " '的地步',\n",
       " '地步看',\n",
       " '看了',\n",
       " '了恶心',\n",
       " '恶心想']"
      ]
     },
     "execution_count": 106,
     "metadata": {},
     "output_type": "execute_result"
    }
   ],
   "source": [
    "TOKEN_2_GRAM[:20]"
   ]
  },
  {
   "cell_type": "code",
   "execution_count": 116,
   "metadata": {},
   "outputs": [],
   "source": [
    "words_count_2 = Counter(TOKEN_2_GRAM)"
   ]
  },
  {
   "cell_type": "code",
   "execution_count": 117,
   "metadata": {},
   "outputs": [],
   "source": [
    "def prob_2(word1, word2):\n",
    "    if word1 + word2 in words_count_2: return words_count_2[word1+word2] / len(TOKEN_2_GRAM)\n",
    "    else:\n",
    "        return 1 / len(TOKEN_2_GRAM)"
   ]
  },
  {
   "cell_type": "code",
   "execution_count": 118,
   "metadata": {},
   "outputs": [],
   "source": [
    "def prob_1a(word):\n",
    "    if word in TOKEN:\n",
    "        return words_count[word] / len(TOKEN)\n",
    "    else:\n",
    "        return 1 / len(TOKEN)"
   ]
  },
  {
   "cell_type": "code",
   "execution_count": 119,
   "metadata": {},
   "outputs": [
    {
     "data": {
      "text/plain": [
       "2.1044568186505382e-07"
      ]
     },
     "execution_count": 119,
     "metadata": {},
     "output_type": "execute_result"
    }
   ],
   "source": [
    "prob_1a('路小雨')"
   ]
  },
  {
   "cell_type": "code",
   "execution_count": 120,
   "metadata": {},
   "outputs": [],
   "source": [
    "def get_probablity(sentence):\n",
    "    words = cut(sentence)\n",
    "    \n",
    "    sentence_pro = 1\n",
    "    \n",
    "    for i, word in enumerate(words[:-1]):\n",
    "        next_ = words[i+1]\n",
    "        \n",
    "        probability = prob_2(word, next_)\n",
    "        \n",
    "        sentence_pro *= probability\n",
    "    \n",
    "    return sentence_pro"
   ]
  },
  {
   "cell_type": "code",
   "execution_count": 122,
   "metadata": {},
   "outputs": [
    {
     "data": {
      "text/plain": [
       "1.7063969230551466e-25"
      ]
     },
     "execution_count": 122,
     "metadata": {},
     "output_type": "execute_result"
    }
   ],
   "source": [
    "get_probablity('庄文强去公园玩了')"
   ]
  },
  {
   "cell_type": "code",
   "execution_count": 123,
   "metadata": {},
   "outputs": [
    {
     "data": {
      "text/plain": [
       "4.428742229602673e-14"
      ]
     },
     "execution_count": 123,
     "metadata": {},
     "output_type": "execute_result"
    }
   ],
   "source": [
    "get_probablity('吴京就是自大狂')"
   ]
  },
  {
   "cell_type": "markdown",
   "metadata": {},
   "source": [
    "#### 3. 获得最优质的的语言"
   ]
  },
  {
   "cell_type": "code",
   "execution_count": null,
   "metadata": {},
   "outputs": [],
   "source": []
  },
  {
   "cell_type": "markdown",
   "metadata": {},
   "source": [
    "当我们能够生成随机的语言并且能判断之后，我们就可以生成更加合理的语言了。请定义 generate_best 函数，该函数输入一个语法 + 语言模型，能够生成**n**个句子，并能选择一个最合理的句子: \n",
    "\n"
   ]
  },
  {
   "cell_type": "markdown",
   "metadata": {},
   "source": [
    "提示，要实现这个函数，你需要Python的sorted函数"
   ]
  },
  {
   "cell_type": "code",
   "execution_count": 13,
   "metadata": {},
   "outputs": [
    {
     "data": {
      "text/plain": [
       "[1, 2, 3, 5]"
      ]
     },
     "execution_count": 13,
     "metadata": {},
     "output_type": "execute_result"
    }
   ],
   "source": [
    "sorted([1, 3, 5, 2])"
   ]
  },
  {
   "cell_type": "markdown",
   "metadata": {},
   "source": [
    "这个函数接受一个参数key，这个参数接受一个函数作为输入，例如"
   ]
  },
  {
   "cell_type": "code",
   "execution_count": 15,
   "metadata": {},
   "outputs": [
    {
     "data": {
      "text/plain": [
       "[(1, 4), (2, 5), (4, 4), (5, 0)]"
      ]
     },
     "execution_count": 15,
     "metadata": {},
     "output_type": "execute_result"
    }
   ],
   "source": [
    "sorted([(2, 5), (1, 4), (5, 0), (4, 4)], key=lambda x: x[0])"
   ]
  },
  {
   "cell_type": "markdown",
   "metadata": {},
   "source": [
    "能够让list按照第0个元素进行排序."
   ]
  },
  {
   "cell_type": "code",
   "execution_count": 16,
   "metadata": {},
   "outputs": [
    {
     "data": {
      "text/plain": [
       "[(5, 0), (1, 4), (4, 4), (2, 5)]"
      ]
     },
     "execution_count": 16,
     "metadata": {},
     "output_type": "execute_result"
    }
   ],
   "source": [
    "sorted([(2, 5), (1, 4), (5, 0), (4, 4)], key=lambda x: x[1])"
   ]
  },
  {
   "cell_type": "markdown",
   "metadata": {},
   "source": [
    "能够让list按照第1个元素进行排序."
   ]
  },
  {
   "cell_type": "code",
   "execution_count": 17,
   "metadata": {},
   "outputs": [
    {
     "data": {
      "text/plain": [
       "[(2, 5), (1, 4), (4, 4), (5, 0)]"
      ]
     },
     "execution_count": 17,
     "metadata": {},
     "output_type": "execute_result"
    }
   ],
   "source": [
    "sorted([(2, 5), (1, 4), (5, 0), (4, 4)], key=lambda x: x[1], reverse=True)"
   ]
  },
  {
   "cell_type": "markdown",
   "metadata": {},
   "source": [
    "能够让list按照第1个元素进行排序, 但是是递减的顺序。"
   ]
  },
  {
   "cell_type": "markdown",
   "metadata": {},
   "source": [
    ">"
   ]
  },
  {
   "cell_type": "code",
   "execution_count": 130,
   "metadata": {},
   "outputs": [],
   "source": [
    "xueyi2 = '''\n",
    "雪姨 = 陈述 骂街\n",
    "陈述 = 前称呼 胆敢 动宾短语 中结尾\n",
    "骂街 = 后称呼 胆敢 动宾短语 结尾\n",
    "动宾短语 = 动词 宾语\n",
    "前称呼 = 小屁孩 | 小丫头 | 小家伙 | 小明 | 小白 | 小崽子 | 白痴 | \n",
    "后称呼 = 你 | 侬 | 你们 | 你这白痴 | 你这个窝囊废\n",
    "胆敢 = 有本事 | 有胆量 | 敢 | 能 | 可以 | 够胆 | 竟敢 | 难道不敢 |\n",
    "动词 =  开 | 看 | 玩 | 接 |借 | 说 | 看 | 走 | 听 | 笑 | 拿 | 飞翔 | 跑 | 吃 | 唱 | 喝 | 敲 | 坐 | 吆喝 | 盯 | 勾引\n",
    "中结尾 = ，\n",
    "宾语=笔 | 杉木 | 蜗牛 | 猎豹 | 奥托 | 棒球 | 战斗机 | 冥王星 | 思想 | 中学 | 物理 | 过程 | 门 | 男人 | 女人 | 飞机 \n",
    "结尾 = 啊？ | 吗？\n",
    "'''"
   ]
  },
  {
   "cell_type": "code",
   "execution_count": 131,
   "metadata": {},
   "outputs": [],
   "source": [
    "xueyi_grammar2 = create_grammar(xueyi2)"
   ]
  },
  {
   "cell_type": "code",
   "execution_count": 132,
   "metadata": {},
   "outputs": [
    {
     "data": {
      "text/plain": [
       "{'中结尾': [['，']],\n",
       " '前称呼': [['小屁孩'], ['小丫头'], ['小家伙'], ['小明'], ['小白'], ['小崽子'], ['白痴'], []],\n",
       " '动宾短语': [['动词', '宾语']],\n",
       " '动词': [['开'],\n",
       "  ['看'],\n",
       "  ['玩'],\n",
       "  ['接'],\n",
       "  ['借'],\n",
       "  ['说'],\n",
       "  ['看'],\n",
       "  ['走'],\n",
       "  ['听'],\n",
       "  ['笑'],\n",
       "  ['拿'],\n",
       "  ['飞翔'],\n",
       "  ['跑'],\n",
       "  ['吃'],\n",
       "  ['唱'],\n",
       "  ['喝'],\n",
       "  ['敲'],\n",
       "  ['坐'],\n",
       "  ['吆喝'],\n",
       "  ['盯'],\n",
       "  ['勾引']],\n",
       " '后称呼': [['你'], ['侬'], ['你们'], ['你这白痴'], ['你这个窝囊废']],\n",
       " '宾语': [['笔'],\n",
       "  ['杉木'],\n",
       "  ['蜗牛'],\n",
       "  ['猎豹'],\n",
       "  ['奥托'],\n",
       "  ['棒球'],\n",
       "  ['战斗机'],\n",
       "  ['冥王星'],\n",
       "  ['思想'],\n",
       "  ['中学'],\n",
       "  ['物理'],\n",
       "  ['过程'],\n",
       "  ['门'],\n",
       "  ['男人'],\n",
       "  ['女人'],\n",
       "  ['飞机']],\n",
       " '结尾': [['啊？'], ['吗？']],\n",
       " '胆敢': [['有本事'], ['有胆量'], ['敢'], ['能'], ['可以'], ['够胆'], ['竟敢'], ['难道不敢'], []],\n",
       " '陈述': [['前称呼', '胆敢', '动宾短语', '中结尾']],\n",
       " '雪姨': [['陈述', '骂街']],\n",
       " '骂街': [['后称呼', '胆敢', '动宾短语', '结尾']]}"
      ]
     },
     "execution_count": 132,
     "metadata": {},
     "output_type": "execute_result"
    }
   ],
   "source": [
    "xueyi_grammar2"
   ]
  },
  {
   "cell_type": "code",
   "execution_count": 133,
   "metadata": {},
   "outputs": [],
   "source": [
    "xueyi_stat=generate_n(xueyi_grammar2,'雪姨')"
   ]
  },
  {
   "cell_type": "code",
   "execution_count": 134,
   "metadata": {},
   "outputs": [
    {
     "data": {
      "text/plain": [
       "'白痴可以拿战斗机，你这白痴难道不敢笑奥托吗？\\n小家伙竟敢看思想，你有本事喝蜗牛吗？\\n小丫头有本事拿蜗牛，你这个窝囊废有本事借男人吗？\\n小崽子竟敢吆喝棒球，你们难道不敢看飞机吗？\\n小白竟敢喝飞机，侬看猎豹吗？\\n小明难道不敢借思想，你这个窝囊废能开杉木吗？\\n小崽子有胆量敲过程，你难道不敢接女人啊？\\n小崽子拿女人，侬看男人啊？\\n小白够胆勾引男人，你这个窝囊废可以听奥托吗？\\n小白借棒球，你们能吆喝冥王星吗？\\n'"
      ]
     },
     "execution_count": 134,
     "metadata": {},
     "output_type": "execute_result"
    }
   ],
   "source": [
    "xueyi_stat"
   ]
  },
  {
   "cell_type": "code",
   "execution_count": 141,
   "metadata": {},
   "outputs": [
    {
     "data": {
      "text/plain": [
       "'白痴可以拿战斗机，你这白痴难道不敢笑奥托吗？\\n小家伙竟敢看思想，你有本事喝蜗牛吗？\\n小丫头有本事拿蜗牛，你这个窝囊废有本事借男人吗？\\n小崽子竟敢吆喝棒球，你们难道不敢看飞机吗？\\n小白竟敢喝飞机，侬看猎豹吗？\\n小明难道不敢借思想，你这个窝囊废能开杉木吗？\\n小崽子有胆量敲过程，你难道不敢接女人啊？\\n小崽子拿女人，侬看男人啊？\\n小白够胆勾引男人，你这个窝囊废可以听奥托吗？\\n小白借棒球，你们能吆喝冥王星吗？\\n'"
      ]
     },
     "execution_count": 141,
     "metadata": {},
     "output_type": "execute_result"
    }
   ],
   "source": [
    "xueyi_stat"
   ]
  },
  {
   "cell_type": "code",
   "execution_count": 139,
   "metadata": {},
   "outputs": [
    {
     "data": {
      "text/plain": [
       "1"
      ]
     },
     "execution_count": 139,
     "metadata": {},
     "output_type": "execute_result"
    }
   ],
   "source": [
    "get_probablity(xueyi_stat)"
   ]
  },
  {
   "cell_type": "code",
   "execution_count": 142,
   "metadata": {},
   "outputs": [],
   "source": [
    "xueyi_stat=generate2(xueyi_grammar2,'雪姨')"
   ]
  },
  {
   "cell_type": "code",
   "execution_count": 144,
   "metadata": {},
   "outputs": [
    {
     "data": {
      "text/plain": [
       "'小屁孩有胆量说女人，你可以走物理吗？'"
      ]
     },
     "execution_count": 144,
     "metadata": {},
     "output_type": "execute_result"
    }
   ],
   "source": [
    "xueyi_stat"
   ]
  },
  {
   "cell_type": "code",
   "execution_count": 143,
   "metadata": {},
   "outputs": [
    {
     "data": {
      "text/plain": [
       "4.88107189194317e-69"
      ]
     },
     "execution_count": 143,
     "metadata": {},
     "output_type": "execute_result"
    }
   ],
   "source": [
    "get_probablity(xueyi_stat)"
   ]
  },
  {
   "cell_type": "code",
   "execution_count": 147,
   "metadata": {},
   "outputs": [],
   "source": [
    "kk=[(get_probablity(xueyi_stat),xueyi_stat)]"
   ]
  },
  {
   "cell_type": "code",
   "execution_count": 153,
   "metadata": {},
   "outputs": [],
   "source": [
    "kk.append([get_probablity(xueyi_stat),xueyi_stat])"
   ]
  },
  {
   "cell_type": "code",
   "execution_count": 155,
   "metadata": {},
   "outputs": [],
   "source": [
    "kk=[]"
   ]
  },
  {
   "cell_type": "code",
   "execution_count": 156,
   "metadata": {},
   "outputs": [
    {
     "data": {
      "text/plain": [
       "[[4.88107189194317e-69, '小屁孩有胆量说女人，你可以走物理吗？']]"
      ]
     },
     "execution_count": 156,
     "metadata": {},
     "output_type": "execute_result"
    }
   ],
   "source": [
    "kk.append([get_probablity(xueyi_stat),xueyi_stat])\n",
    "kk"
   ]
  },
  {
   "cell_type": "code",
   "execution_count": 157,
   "metadata": {},
   "outputs": [
    {
     "data": {
      "text/plain": [
       "[[4.88107189194317e-69, '小屁孩有胆量说女人，你可以走物理吗？'],\n",
       " [1.362466444539582e-72, '小崽子难道不敢开男人，侬够胆接女人啊？']]"
      ]
     },
     "execution_count": 157,
     "metadata": {},
     "output_type": "execute_result"
    }
   ],
   "source": [
    "xueyi_stat=generate2(xueyi_grammar2,'雪姨')\n",
    "kk.append([get_probablity(xueyi_stat),xueyi_stat])\n",
    "kk"
   ]
  },
  {
   "cell_type": "code",
   "execution_count": 158,
   "metadata": {},
   "outputs": [
    {
     "data": {
      "text/plain": [
       "[[4.88107189194317e-69, '小屁孩有胆量说女人，你可以走物理吗？'],\n",
       " [1.362466444539582e-72, '小崽子难道不敢开男人，侬够胆接女人啊？'],\n",
       " [3.918590243101611e-66, '小屁孩有本事飞翔杉木，侬可以开笔吗？'],\n",
       " [5.792698620237165e-66, '小白可以吃冥王星，侬敢吃女人吗？'],\n",
       " [1.4924806437514474e-77, '小白能喝中学，你这白痴有本事接冥王星吗？'],\n",
       " [8.246507427476415e-72, '小家伙可以勾引蜗牛，你们有本事说棒球吗？'],\n",
       " [9.55914640254771e-85, '小白有胆量说过程，你这白痴竟敢盯杉木啊？'],\n",
       " [4.165062261631947e-76, '小丫头够胆飞翔物理，你有本事开飞机吗？'],\n",
       " [6.135638156053878e-84, '小白有本事说冥王星，你这个窝囊废能唱棒球啊？'],\n",
       " [3.413336987372847e-71, '小明有胆量看思想，你可以盯中学吗？'],\n",
       " [2.1875955965836823e-64, '小崽子可以看蜗牛，侬可以开猎豹啊？'],\n",
       " [3.816366149803309e-64, '小白敢说蜗牛，你有胆量开战斗机啊？']]"
      ]
     },
     "execution_count": 158,
     "metadata": {},
     "output_type": "execute_result"
    }
   ],
   "source": [
    "for i in range(10):\n",
    "    xueyi_stat=generate2(xueyi_grammar2,'雪姨')\n",
    "    kk.append([get_probablity(xueyi_stat),xueyi_stat])\n",
    "kk"
   ]
  },
  {
   "cell_type": "code",
   "execution_count": 161,
   "metadata": {},
   "outputs": [
    {
     "data": {
      "text/plain": [
       "[[3.816366149803309e-64, '小白敢说蜗牛，你有胆量开战斗机啊？'],\n",
       " [2.1875955965836823e-64, '小崽子可以看蜗牛，侬可以开猎豹啊？'],\n",
       " [5.792698620237165e-66, '小白可以吃冥王星，侬敢吃女人吗？'],\n",
       " [3.918590243101611e-66, '小屁孩有本事飞翔杉木，侬可以开笔吗？'],\n",
       " [4.88107189194317e-69, '小屁孩有胆量说女人，你可以走物理吗？'],\n",
       " [3.413336987372847e-71, '小明有胆量看思想，你可以盯中学吗？'],\n",
       " [8.246507427476415e-72, '小家伙可以勾引蜗牛，你们有本事说棒球吗？'],\n",
       " [1.362466444539582e-72, '小崽子难道不敢开男人，侬够胆接女人啊？'],\n",
       " [4.165062261631947e-76, '小丫头够胆飞翔物理，你有本事开飞机吗？'],\n",
       " [1.4924806437514474e-77, '小白能喝中学，你这白痴有本事接冥王星吗？'],\n",
       " [6.135638156053878e-84, '小白有本事说冥王星，你这个窝囊废能唱棒球啊？'],\n",
       " [9.55914640254771e-85, '小白有胆量说过程，你这白痴竟敢盯杉木啊？']]"
      ]
     },
     "execution_count": 161,
     "metadata": {},
     "output_type": "execute_result"
    }
   ],
   "source": [
    "sorted(kk, key=lambda x: x[0],reverse = True)"
   ]
  },
  {
   "cell_type": "code",
   "execution_count": 181,
   "metadata": {},
   "outputs": [],
   "source": [
    "def generate_best(gram, target, n=1000): # you code here\n",
    "    kk=[]\n",
    "    for i in range(n):\n",
    "        stat=generate2(gram,target)\n",
    "        kk.append([get_probablity(stat),stat])\n",
    "    kk2=sorted(kk, key=lambda x: x[0],reverse = True)\n",
    "    return kk2"
   ]
  },
  {
   "cell_type": "code",
   "execution_count": 184,
   "metadata": {},
   "outputs": [],
   "source": [
    "mygram=generate_best(xueyi_grammar2,'雪姨',n=1000)"
   ]
  },
  {
   "cell_type": "code",
   "execution_count": 185,
   "metadata": {},
   "outputs": [
    {
     "data": {
      "text/plain": [
       "[[2.400924059637498e-43, '敲门，你能笑男人吗？'],\n",
       " [3.637763726723482e-45, '小白接女人，你能玩笔啊？'],\n",
       " [1.4624175785823045e-46, '小崽子走门，你们可以看笔吗？'],\n",
       " [7.312087892911522e-47, '竟敢看门，侬敲飞机啊？'],\n",
       " [1.8280219732278806e-47, '敲思想，你们竟敢盯笔吗？'],\n",
       " [1.8280219732278806e-47, '小崽子看奥托，你们开门啊？'],\n",
       " [1.8280219732278806e-47, '敢接门，你飞翔蜗牛啊？'],\n",
       " [1.8280219732278806e-47, '吃杉木，你敲战斗机吗？'],\n",
       " [1.8280219732278806e-47, '小丫头拿门，你们敢开物理吗？'],\n",
       " [1.8280219732278806e-47, '竟敢接笔，侬拿思想啊？'],\n",
       " [1.071772786207905e-50, '小丫头能玩门，你能走思想吗？'],\n",
       " [3.539235331339816e-51, '小白唱笔，你们有本事飞翔飞机啊？'],\n",
       " [7.655519901485036e-52, '小丫头吃奥托，你能看笔吗？'],\n",
       " [5.231913098502336e-52, '可以接蜗牛，你可以拿笔啊？'],\n",
       " [2.0389073104457633e-52, '小明看奥托，你笑蜗牛啊？'],\n",
       " [2.0389073104457633e-52, '竟敢唱冥王星，你笑冥王星吗？'],\n",
       " [1.231038376118197e-52, '说杉木，你们敢看战斗机吗？'],\n",
       " [8.848088328349538e-53, '飞翔过程，侬有本事接笔啊？'],\n",
       " [3.0775959402954924e-53, '白痴敢借门，你们能坐笔吗？'],\n",
       " [3.0775959402954924e-53, '小家伙吃杉木，你盯飞机啊？'],\n",
       " [3.0775959402954924e-53, '说蜗牛，你们可以借蜗牛吗？'],\n",
       " [1.1540984776108094e-53, '小崽子飞翔物理，侬走男人吗？'],\n",
       " [1.1540984776108092e-53, '竟敢看战斗机，你跑笔啊？'],\n",
       " [1.1540984776108092e-53, '小崽子敢喝棒球，你们拿飞机吗？'],\n",
       " [1.1540984776108092e-53, '小家伙能接笔，你开思想吗？'],\n",
       " [7.693989850738731e-54, '小丫头坐男人，侬拿女人吗？'],\n",
       " [7.693989850738731e-54, '小屁孩能喝笔，你飞翔蜗牛吗？'],\n",
       " [7.693989850738731e-54, '小屁孩能敲笔，你敢唱战斗机吗？'],\n",
       " [3.8469949253693655e-54, '小屁孩敢接猎豹，侬可以借笔啊？'],\n",
       " [3.8469949253693655e-54, '小丫头能坐门，你敢借冥王星啊？'],\n",
       " [3.8469949253693655e-54, '小屁孩坐奥托，侬飞翔棒球啊？'],\n",
       " [3.8469949253693655e-54, '小白够胆玩杉木，你们勾引中学吗？'],\n",
       " [3.8469949253693655e-54, '小丫头竟敢跑过程，你们能唱门啊？'],\n",
       " [3.8469949253693655e-54, '敢接笔，你们竟敢笑奥托啊？'],\n",
       " [3.8469949253693655e-54, '小崽子笑思想，侬拿飞机吗？'],\n",
       " [3.8469949253693655e-54, '小明敢走中学，侬跑思想啊？'],\n",
       " [3.8469949253693655e-54, '小明跑猎豹，侬接杉木吗？'],\n",
       " [3.8469949253693655e-54, '小丫头敢拿门，侬竟敢听中学啊？'],\n",
       " [3.8469949253693655e-54, '小白竟敢飞翔飞机，你够胆吃门啊？'],\n",
       " [3.8469949253693655e-54, '小家伙敢坐猎豹，侬拿杉木吗？'],\n",
       " [3.8469949253693655e-54, '白痴能拿门，你竟敢开蜗牛吗？'],\n",
       " [3.8469949253693655e-54, '小白敢飞翔棒球，你们竟敢盯门啊？'],\n",
       " [3.8469949253693655e-54, '小屁孩够胆借中学，你坐笔吗？'],\n",
       " [3.8469949253693655e-54, '敢敲冥王星，你们竟敢盯笔啊？'],\n",
       " [1.6795625741918745e-55, '能看男人，你们有本事拿门啊？'],\n",
       " [7.265933744873545e-56, '竟敢接物理，你能看战斗机吗？'],\n",
       " [2.356212723381872e-56, '小家伙看过程，你可以看战斗机啊？'],\n",
       " [1.378235479757181e-56, '能玩中学，你敢笑女人啊？'],\n",
       " [4.183929134977156e-57, '竟敢看蜗牛，你可以借女人啊？'],\n",
       " [4.096494083394816e-57, '小白敢看笔，你们有本事看女人吗？'],\n",
       " [2.9792684242871386e-57, '小丫头敢坐女人，你有本事拿门啊？'],\n",
       " [2.9792684242871386e-57, '小明敢走门，你有本事听杉木啊？'],\n",
       " [2.9792684242871386e-57, '小屁孩可以听门，你有本事看门啊？'],\n",
       " [2.5388548311316483e-57, '能走过程，你敢拿过程吗？'],\n",
       " [2.312171364066323e-57, '小屁孩敢开战斗机，你们可以吃男人啊？'],\n",
       " [2.079011226513417e-57, '小白可以说冥王星，你们能看门啊？'],\n",
       " [1.9332861405428494e-57, '白痴竟敢看门，你能听战斗机吗？'],\n",
       " [1.3860074843422775e-57, '小屁孩吃棒球，你们可以看蜗牛啊？'],\n",
       " [1.3212407794664702e-57, '小屁孩能接蜗牛，你可以笑女人吗？'],\n",
       " [1.212756548799493e-57, '小屁孩可以看过程，你玩棒球啊？'],\n",
       " [7.658662851564218e-58, '看女人，你这白痴接飞机吗？'],\n",
       " [7.30244597474728e-58, '小丫头能看棒球，你们吃棒球吗？'],\n",
       " [7.302445974747279e-58, '小明够胆敲笔，侬能看物理啊？'],\n",
       " [7.140529212557761e-58, '敢喝棒球，你这个窝囊废敢借男人啊？'],\n",
       " [5.780428410165806e-58, '小家伙可以吃男人，侬看男人啊？'],\n",
       " [5.213719742502492e-58, '有本事说杉木，你们说猎豹啊？'],\n",
       " [4.922269570561361e-58, '可以吆喝奥托，你们能借女人啊？'],\n",
       " [3.853618940110537e-58, '小崽子能吃冥王星，你走棒球吗？'],\n",
       " [3.724085530358923e-58, '小明敢看男人，你们有本事听笔吗？'],\n",
       " [3.65122298737364e-58, '白痴能看物理，侬竟敢接笔啊？'],\n",
       " [2.2020679657774506e-58, '小白敢走奥托，你可以敲物理啊？'],\n",
       " [1.8620427651794616e-58, '白痴能接物理，你们有本事坐笔啊？'],\n",
       " [1.8620427651794616e-58, '借女人，你们有本事说思想吗？'],\n",
       " [1.7325093554278465e-58, '小崽子可以看物理，你竟敢接笔吗？'],\n",
       " [1.6110717837857082e-58, '白痴能敲奥托，你能玩笔吗？'],\n",
       " [1.6110717837857082e-58, '小白敢走战斗机，你能喝冥王星吗？'],\n",
       " [1.6110717837857082e-58, '小丫头拿战斗机，你能盯奥托吗？'],\n",
       " [1.5301134026909489e-58, '小崽子能玩门，你难道不敢说棒球吗？'],\n",
       " [1.424867507267762e-58, '小白够胆笑飞机，你们能笑中学吗？'],\n",
       " [1.2629507450782435e-58, '小明能拿物理，你们敢开飞机啊？'],\n",
       " [1.2305673926403402e-58, '小家伙敢玩门，侬能唱女人啊？'],\n",
       " [1.133417335326629e-58, '可以盯女人，你敢听过程啊？'],\n",
       " [1.1010339828887253e-58, '小丫头可以坐冥王星，你可以坐笔啊？'],\n",
       " [1.1010339828887253e-58, '小家伙能接过程，你可以吆喝冥王星吗？'],\n",
       " [1.1010339828887253e-58, '小白能听奥托，你可以借中学吗？'],\n",
       " [1.1010339828887253e-58, '小屁孩坐杉木，你可以接思想吗？'],\n",
       " [1.0200756017939658e-58, '敢接男人，你这个窝囊废能接男人吗？'],\n",
       " [9.22925544480255e-59, '小丫头竟敢唱杉木，你唱女人啊？'],\n",
       " [9.067338682613032e-59, '小丫头跑思想，你敢拿战斗机吗？'],\n",
       " [5.667086676633146e-59, '小明接女人，你们有胆量勾引蜗牛吗？'],\n",
       " [5.667086676633144e-59, '小明敢喝思想，你们有胆量接门吗？'],\n",
       " [5.18133639006459e-59, '白痴吃冥王星，你们能唱过程吗？'],\n",
       " [4.533669341306516e-59, '小屁孩可以坐思想，你走物理啊？'],\n",
       " [4.533669341306516e-59, '白痴能开物理，你听中学吗？'],\n",
       " [3.4002520059798865e-59, '小白能看门，你这个窝囊废笑飞机吗？'],\n",
       " [3.157376862695609e-59, '小明能拿冥王星，你敢接棒球啊？'],\n",
       " [3.0764184816008505e-59, '小白可以接门，侬可以借女人啊？'],\n",
       " [2.590668195032295e-59, '小崽子能玩女人，你们勾引过程吗？'],\n",
       " [2.590668195032295e-59, '能唱杉木，你们敢听物理啊？'],\n",
       " [2.590668195032295e-59, '可以唱女人，你们能开杉木吗？'],\n",
       " [2.266834670653258e-59, '小屁孩能走冥王星，侬吃物理吗？'],\n",
       " [2.266834670653258e-59, '小丫头敢开中学，你敢吆喝思想吗？'],\n",
       " [2.266834670653258e-59, '小崽子能飞翔蜗牛，你敢看门吗？'],\n",
       " [2.266834670653258e-59, '小丫头有胆量玩门，你们飞翔飞机啊？'],\n",
       " [1.8620427651794615e-59, '笑冥王星，侬有本事玩中学啊？'],\n",
       " [1.862042765179461e-59, '小丫头有本事接门，你够胆借飞机吗？'],\n",
       " [1.862042765179461e-59, '有本事吆喝奥托，你够胆说猎豹啊？'],\n",
       " [1.862042765179461e-59, '有本事看物理，侬走奥托啊？'],\n",
       " [1.862042765179461e-59, '白痴有本事坐笔，你敢接中学啊？'],\n",
       " [1.862042765179461e-59, '小明有本事吆喝飞机，侬接门吗？'],\n",
       " [1.862042765179461e-59, '小白有本事唱物理，你们看笔啊？'],\n",
       " [1.6191676218951845e-59, '小家伙飞翔飞机，你们敢吃过程啊？'],\n",
       " [1.2953340975161474e-59, '白痴能听门，你们可以飞翔过程吗？'],\n",
       " [1.2953340975161474e-59, '小家伙接中学，你们竟敢看飞机啊？'],\n",
       " [8.095838109475922e-60, '白痴竟敢开奥托，你坐过程啊？'],\n",
       " [6.476670487580737e-60, '白痴敲思想，你们可以飞翔门吗？'],\n",
       " [6.476670487580737e-60, '白痴竟敢看蜗牛，你们能喝笔啊？'],\n",
       " [6.476670487580737e-60, '小崽子借奥托，侬能开战斗机啊？'],\n",
       " [6.476670487580737e-60, '小崽子可以看门，你们能勾引冥王星啊？'],\n",
       " [6.476670487580737e-60, '白痴敢飞翔男人，你们可以看笔吗？'],\n",
       " [6.476670487580737e-60, '白痴能喝男人，你们能走门啊？'],\n",
       " [5.667086676633145e-60, '小丫头有胆量看笔，你们借思想啊？'],\n",
       " [5.667086676633145e-60, '小白竟敢借笔，你难道不敢唱门啊？'],\n",
       " [5.667086676633145e-60, '小白敢飞翔棒球，侬敢玩猎豹啊？'],\n",
       " [5.667086676633145e-60, '有胆量借飞机，侬敢接物理吗？'],\n",
       " [5.667086676633145e-60, '小崽子敢听门，侬敢玩冥王星啊？'],\n",
       " [4.857502865685552e-60, '小崽子说奥托，侬可以开思想吗？'],\n",
       " [4.857502865685552e-60, '小明够胆飞翔杉木，你跑过程吗？'],\n",
       " [4.047919054737961e-60, '小屁孩走奥托，侬可以借过程啊？'],\n",
       " [4.047919054737961e-60, '小家伙可以喝猎豹，你们敲过程啊？'],\n",
       " [3.2383352437903685e-60, '小家伙竟敢玩门，你们敢勾引奥托啊？'],\n",
       " [2.428751432842776e-60, '小白够胆笑战斗机，侬敢吆喝男人吗？'],\n",
       " [2.428751432842776e-60, '小丫头敢吆喝飞机，侬拿男人吗？'],\n",
       " [1.6191676218951843e-60, '竟敢唱棒球，侬敢吃物理啊？'],\n",
       " [1.6191676218951843e-60, '小屁孩可以勾引中学，你们跑女人吗？'],\n",
       " [1.6191676218951843e-60, '小明听冥王星，侬敢开棒球啊？'],\n",
       " [1.6191676218951843e-60, '白痴竟敢跑过程，你盯杉木吗？'],\n",
       " [1.6191676218951843e-60, '小白够胆喝猎豹，你们坐过程吗？'],\n",
       " [1.6191676218951843e-60, '小屁孩看奥托，你竟敢看猎豹吗？'],\n",
       " [1.6191676218951843e-60, '小白可以接冥王星，侬敢唱物理啊？'],\n",
       " [1.6191676218951843e-60, '小明竟敢吆喝棒球，你们飞翔女人吗？'],\n",
       " [1.6191676218951843e-60, '小丫头竟敢跑中学，侬敢接女人吗？'],\n",
       " [8.095838109475921e-61, '走蜗牛，侬够胆跑门吗？'],\n",
       " [8.095838109475921e-61, '小屁孩吃奥托，侬可以盯杉木吗？'],\n",
       " [8.095838109475921e-61, '小丫头够胆吆喝男人，你敲门吗？'],\n",
       " [8.095838109475921e-61, '小丫头敢吃飞机，你们敢接中学啊？'],\n",
       " [8.095838109475921e-61, '白痴敢坐过程，你够胆敲杉木吗？'],\n",
       " [8.095838109475921e-61, '小丫头竟敢跑物理，你们勾引奥托吗？'],\n",
       " [8.095838109475921e-61, '小白听物理，你们难道不敢喝门啊？'],\n",
       " [8.095838109475921e-61, '小白够胆借门，你们竟敢说蜗牛吗？'],\n",
       " [8.095838109475921e-61, '小家伙能吆喝飞机，侬可以坐门吗？'],\n",
       " [8.095838109475921e-61, '小家伙竟敢拿猎豹，侬吃中学啊？'],\n",
       " [8.095838109475921e-61, '小屁孩竟敢说门，侬敢盯奥托啊？'],\n",
       " [8.095838109475921e-61, '小明可以笑门，侬敢听蜗牛啊？'],\n",
       " [8.095838109475921e-61, '小白够胆借蜗牛，侬可以喝奥托啊？'],\n",
       " [8.095838109475921e-61, '小白可以敲奥托，你们敢坐棒球吗？'],\n",
       " [8.095838109475921e-61, '小家伙敢喝猎豹，你够胆敲猎豹吗？'],\n",
       " [8.095838109475921e-61, '小明竟敢拿奥托，侬走中学吗？'],\n",
       " [8.095838109475921e-61, '白痴能看门，侬可以勾引中学吗？'],\n",
       " [8.095838109475921e-61, '小明竟敢飞翔门，你们盯战斗机吗？'],\n",
       " [8.095838109475921e-61, '可以借战斗机，你们竟敢看思想吗？'],\n",
       " [8.095838109475921e-61, '小家伙坐奥托，侬可以借棒球吗？'],\n",
       " [8.095838109475921e-61, '小明看过程，侬竟敢坐冥王星吗？'],\n",
       " [8.095838109475921e-61, '小家伙敢开男人，你们难道不敢吃笔啊？'],\n",
       " [8.095838109475921e-61, '白痴够胆唱女人，你们敲奥托吗？'],\n",
       " [8.095838109475921e-61, '小屁孩敲奥托，你竟敢借猎豹啊？'],\n",
       " [8.095838109475921e-61, '小屁孩竟敢看思想，你们吆喝门啊？'],\n",
       " [8.095838109475921e-61, '小崽子能喝棒球，你喝棒球吗？'],\n",
       " [8.095838109475921e-61, '白痴笑男人，你够胆说笔吗？'],\n",
       " [8.095838109475921e-61, '小丫头竟敢走男人，你够胆唱物理吗？'],\n",
       " [8.095838109475921e-61, '小丫头敢看笔，侬竟敢敲棒球吗？'],\n",
       " [8.095838109475921e-61, '小崽子借飞机，你竟敢说猎豹啊？'],\n",
       " [8.095838109475921e-61, '小明能接飞机，你够胆吃思想吗？'],\n",
       " [8.095838109475921e-61, '小明敢玩物理，侬可以坐中学吗？'],\n",
       " [8.095838109475921e-61, '小崽子接杉木，侬够胆笑奥托啊？'],\n",
       " [8.095838109475921e-61, '小崽子敢开思想，你竟敢坐冥王星吗？'],\n",
       " [8.095838109475921e-61, '竟敢拿蜗牛，侬可以敲冥王星啊？'],\n",
       " [8.095838109475921e-61, '白痴吆喝冥王星，侬竟敢唱蜗牛啊？'],\n",
       " [8.095838109475921e-61, '小白够胆拿思想，你吆喝杉木啊？'],\n",
       " [8.095838109475921e-61, '小屁孩接奥托，侬能接冥王星吗？'],\n",
       " [8.095838109475921e-61, '小屁孩可以说笔，侬够胆笑冥王星吗？'],\n",
       " [8.095838109475921e-61, '小家伙可以借飞机，侬敢喝冥王星吗？'],\n",
       " [8.095838109475921e-61, '白痴跑过程，你竟敢看物理吗？'],\n",
       " [8.095838109475921e-61, '够胆接战斗机，你竟敢勾引战斗机吗？'],\n",
       " [8.095838109475921e-61, '小白敢拿男人，你竟敢飞翔飞机吗？'],\n",
       " [8.095838109475921e-61, '能飞翔冥王星，侬竟敢走物理吗？'],\n",
       " [8.095838109475921e-61, '小白够胆勾引战斗机，你飞翔奥托啊？'],\n",
       " [8.095838109475921e-61, '白痴敢接物理，侬敢盯中学啊？'],\n",
       " [8.095838109475921e-61, '小屁孩竟敢看冥王星，你竟敢听笔啊？'],\n",
       " [4.8930720796956755e-61, '小屁孩能坐奥托，你能看飞机啊？'],\n",
       " [4.236166426281673e-62, '能说物理，你有胆量盯女人吗？'],\n",
       " [1.7058134448687809e-62, '小家伙能看猎豹，侬能说过程吗？'],\n",
       " [1.504738653351019e-62, '敢吆喝蜗牛，你有本事说男人吗？'],\n",
       " [9.625420624968203e-63, '小崽子可以说杉木，你们能笑飞机吗？'],\n",
       " [6.509630261235929e-63, '小屁孩敢拿战斗机，你能玩男人吗？'],\n",
       " [5.588591180618221e-63, '小屁孩有胆量坐男人，你说女人吗？'],\n",
       " [4.985128283180572e-63, '小崽子接猎豹，你们有胆量说女人啊？'],\n",
       " [4.713212195007086e-63, '小丫头敢说冥王星，你敢走女人啊？'],\n",
       " [3.7618466333775477e-63, '可以笑飞机，你有本事吃思想吗？'],\n",
       " [1.946346736399688e-63, '有胆量吆喝女人，你可以开战斗机吗？'],\n",
       " [1.5061016412616633e-63, '小丫头能跑杉木，你可以喝过程啊？'],\n",
       " [1.2294150954009233e-63, '小明能盯战斗机，你们能看棒球啊？'],\n",
       " [8.620898534823545e-64, '能笑战斗机，你们有本事笑棒球吗？'],\n",
       " [7.632732299606618e-64, '白痴勾引飞机，你有胆量接飞机啊？'],\n",
       " [6.26974438896258e-64, '小明坐男人，你有本事坐战斗机吗？'],\n",
       " [6.26974438896258e-64, '小崽子敢开笔，你有本事走蜗牛啊？'],\n",
       " [6.147075477004616e-64, '小屁孩可以喝蜗牛，你们能看思想啊？'],\n",
       " [6.147075477004616e-64, '小崽子能敲蜗牛，你们能看冥王星吗？'],\n",
       " [6.0244065650466534e-64, '小屁孩敢说飞机，你可以敲思想吗？'],\n",
       " [4.86586684099922e-64, '白痴敢吆喝冥王星，你可以接男人啊？'],\n",
       " [4.407562156045161e-64, '小明可以喝男人，你能跑中学吗？'],\n",
       " [4.14348324835788e-64, '难道不敢吃猎豹，你们能借女人啊？'],\n",
       " [3.816366149803309e-64, '小屁孩竟敢坐门，你有胆量拿过程吗？'],\n",
       " [3.369987609067386e-64, '看门，你这白痴有本事盯思想吗？'],\n",
       " [3.369987609067386e-64, '小家伙唱笔，你这白痴有本事听门啊？'],\n",
       " [3.0053883429701064e-64, '敢开蜗牛，你这个窝囊废能借男人啊？'],\n",
       " [2.9167941287782435e-64, '小明够胆喝战斗机，你们可以看中学吗？'],\n",
       " [2.835014854139601e-64, '小屁孩敢拿中学，你们可以走飞机啊？'],\n",
       " [2.7123459421816377e-64, '够胆飞翔战斗机，你能唱女人吗？'],\n",
       " [1.9592951215508064e-64, '小家伙坐杉木，你们有本事喝过程啊？'],\n",
       " [1.9081830749016545e-64, '小白够胆玩女人，你有胆量借蜗牛吗？'],\n",
       " [1.9081830749016545e-64, '小崽子敢唱杉木，你有胆量飞翔棒球啊？'],\n",
       " [1.9081830749016545e-64, '小白能笑猎豹，你有胆量跑猎豹啊？'],\n",
       " [1.9081830749016545e-64, '小白够胆看战斗机，你有胆量勾引杉木吗？'],\n",
       " [1.6458079021026766e-64, '小白有本事走飞机，你们勾引男人啊？'],\n",
       " [1.6219556136664068e-64, '小明可以唱冥王星，你可以玩战斗机吗？'],\n",
       " [1.611733204336576e-64, '竟敢看女人，你这白痴开猎豹吗？'],\n",
       " [1.5026941714850532e-64, '能敲棒球，你这个窝囊废接男人啊？'],\n",
       " [1.323802008213023e-64, '白痴敢玩女人，侬能说奥托啊？'],\n",
       " [1.3238020082130228e-64, '能说蜗牛，侬有胆量飞翔蜗牛吗？'],\n",
       " [1.0972052680684513e-64, '小丫头有本事玩冥王星，你们说杉木吗？'],\n",
       " [1.03587081208947e-64, '小家伙能玩猎豹，你够胆吆喝女人啊？'],\n",
       " [9.268317792379466e-65, '小明能借过程，你可以吆喝物理啊？'],\n",
       " [8.620898534823545e-65, '有本事吃物理，侬能笑门吗？'],\n",
       " [8.586823837057445e-65, '看棒球，你这个窝囊废可以开棒球啊？'],\n",
       " [7.68384434625577e-65, '小明可以敲女人，侬能看猎豹啊？'],\n",
       " [7.291985321945607e-65, '小白可以看中学，你们竟敢听过程吗？'],\n",
       " [7.087537135349003e-65, '小屁孩敢笑男人，你们敢说飞机啊？'],\n",
       " [6.9512383442846e-65, '小崽子竟敢开冥王星，你可以听猎豹吗？'],\n",
       " [6.678640762155791e-65, '白痴敢笑蜗牛，你敢玩物理啊？'],\n",
       " [5.724549224704965e-65, '小崽子竟敢敲中学，侬敢看男人啊？'],\n",
       " [5.468988991459208e-65, '小家伙可以说猎豹，你竟敢说飞机吗？'],\n",
       " [5.008980571616844e-65, '有胆量说门，你这个窝囊废吃猎豹啊？'],\n",
       " [5.0089805716168435e-65, '走中学，你这个窝囊废有胆量笑门啊？'],\n",
       " [4.770457687254136e-65, '小白坐过程，你们有胆量笑飞机啊？'],\n",
       " [4.702308291721933e-65, '小崽子能听思想，侬可以拿奥托吗？'],\n",
       " [4.634158896189733e-65, '小崽子可以跑奥托，你可以借杉木啊？'],\n",
       " [3.918590243101612e-65, '小屁孩吃中学，你们有本事喝中学吗？'],\n",
       " [3.918590243101612e-65, '小白可以借飞机，你们有本事拿门啊？'],\n",
       " [3.918590243101612e-65, '小明敢玩过程，你们有本事坐物理吗？'],\n",
       " [3.918590243101612e-65, '小明跑奥托，你们有本事勾引战斗机啊？'],\n",
       " [3.390432427727047e-65, '小屁孩够胆说蜗牛，你能走笔吗？'],\n",
       " [3.3393203810778955e-65, '小家伙敢吆喝战斗机，你敢玩冥王星啊？'],\n",
       " [3.237096287779593e-65, '小家伙开棒球，你们够胆敲女人啊？'],\n",
       " [2.7430131701711286e-65, '小家伙有胆量坐笔，侬有本事借门吗？'],\n",
       " [2.504490285808422e-65, '小明喝奥托，侬有胆量接男人啊？'],\n",
       " [2.402266192510119e-65, '白痴难道不敢看冥王星，你够胆唱男人吗？'],\n",
       " [2.3852288436270685e-65, '小家伙够胆笑物理，你敢听过程啊？'],\n",
       " [2.385228843627068e-65, '小明看过程，你们有胆量笑过程吗？'],\n",
       " [2.385228843627068e-65, '小白够胆笑男人，你们有胆量借物理啊？'],\n",
       " [2.3170794480948666e-65, '够胆说物理，你可以坐猎豹啊？'],\n",
       " [2.3170794480948666e-65, '白痴够胆坐冥王星，你可以借门吗？'],\n",
       " [2.0274445170830085e-65, '小家伙有胆量喝冥王星，你吃猎豹吗？'],\n",
       " [1.9592951215508057e-65, '小丫头有本事坐女人，你敢接过程啊？'],\n",
       " [1.908183074901655e-65, '白痴有胆量走门，侬能玩蜗牛吗？'],\n",
       " [1.6696601905389478e-65, '有胆量敲笔，侬有胆量看过程吗？'],\n",
       " [1.6355854927728466e-65, '小家伙能听奥托，你们可以借奥托啊？'],\n",
       " [1.5503987483575941e-65, '能跑思想，侬有胆量玩思想啊？'],\n",
       " [1.499286701708443e-65, '小白竟敢看女人，你们可以飞翔奥托啊？'],\n",
       " [1.4652120039423419e-65, '小丫头吆喝男人，你这白痴竟敢吃笔啊？'],\n",
       " [1.4652120039423419e-65, '小明够胆接物理，你这白痴敢唱中学啊？'],\n",
       " [1.4652120039423419e-65, '小白说蜗牛，你这白痴能接思想吗？'],\n",
       " [1.4652120039423419e-65, '小白敢拿男人，你这白痴敢坐杉木吗？'],\n",
       " [1.4652120039423419e-65, '小明够胆说男人，你这白痴能喝笔吗？'],\n",
       " [1.4652120039423419e-65, '可以唱女人，你这白痴竟敢盯门啊？'],\n",
       " [1.4652120039423419e-65, '小白能说飞机，你这白痴看冥王星吗？'],\n",
       " [1.4652120039423419e-65, '小明看杉木，你这白痴跑战斗机吗？'],\n",
       " [1.4652120039423419e-65, '小白接思想，你这白痴能盯门啊？'],\n",
       " [1.4311373061762413e-65, '白痴可以勾引男人，你这个窝囊废吃笔吗？'],\n",
       " [1.4311373061762413e-65, '小崽子竟敢开战斗机，你这个窝囊废敲门吗？'],\n",
       " [1.4311373061762413e-65, '小屁孩够胆唱男人，你们敢走男人啊？'],\n",
       " [1.4311373061762411e-65, '看男人，你这个窝囊废能勾引笔啊？'],\n",
       " [1.4311373061762411e-65, '有胆量吃飞机，侬敢拿男人吗？'],\n",
       " [1.328913212877938e-65, '小屁孩可以听杉木，侬可以走物理啊？'],\n",
       " [1.1926144218135343e-65, '小丫头竟敢看杉木，你们有胆量走笔吗？'],\n",
       " [1.192614421813534e-65, '够胆借飞机，你们有胆量听飞机吗？'],\n",
       " [9.540915374508274e-66, '白痴有胆量开过程，你接冥王星啊？'],\n",
       " [9.540915374508274e-66, '小白竟敢敲奥托，你敢开中学吗？'],\n",
       " [9.540915374508274e-66, '小崽子有胆量勾引笔，你们能借笔啊？'],\n",
       " [9.540915374508274e-66, '小丫头有胆量吆喝笔，你们可以走笔吗？'],\n",
       " [8.177927463864235e-66, '小白够胆坐奥托，你们可以开奥托吗？'],\n",
       " [8.177927463864233e-66, '小家伙可以听中学，你们能飞翔女人吗？'],\n",
       " [8.00755397503373e-66, '小明难道不敢看杉木，你勾引冥王星吗？'],\n",
       " [7.837180486203224e-66, '小崽子吆喝女人，侬有本事开战斗机啊？'],\n",
       " [7.837180486203224e-66, '小屁孩敢拿笔，侬有本事看过程吗？'],\n",
       " [7.837180486203224e-66, '小丫头拿飞机，侬有本事听女人吗？'],\n",
       " [7.155686530881207e-66, '小白够胆勾引中学，你这个窝囊废玩门啊？'],\n",
       " [7.155686530881206e-66, '小崽子喝笔，你这个窝囊废够胆坐门啊？'],\n",
       " [7.155686530881206e-66, '小崽子能拿门，你这个窝囊废能勾引笔吗？'],\n",
       " [7.155686530881206e-66, '小崽子吃中学，你这个窝囊废拿棒球啊？'],\n",
       " [7.155686530881206e-66, '小明坐中学，你这个窝囊废接中学吗？'],\n",
       " [7.155686530881206e-66, '小明敢盯过程，你这个窝囊废可以拿笔啊？'],\n",
       " [7.155686530881206e-66, '小崽子敢开冥王星，你这个窝囊废看冥王星啊？'],\n",
       " [6.814939553220197e-66, '小明够胆盯奥托，你们能盯过程啊？'],\n",
       " [5.963072109067671e-66, '小丫头敢唱奥托，侬有胆量喝过程啊？'],\n",
       " [5.451951642576157e-66, '小崽子竟敢走蜗牛，你们敢看杉木啊？'],\n",
       " [5.451951642576157e-66, '小家伙敢看男人，侬竟敢勾引过程吗？'],\n",
       " [4.770457687254137e-66, '小崽子够胆唱女人，你敢勾引奥托啊？'],\n",
       " [4.770457687254137e-66, '小家伙难道不敢跑男人，你们说物理吗？'],\n",
       " [4.770457687254137e-66, '白痴借杉木，你难道不敢吃思想吗？'],\n",
       " [4.770457687254137e-66, '小明竟敢借蜗牛，你敢走战斗机啊？'],\n",
       " [4.770457687254137e-66, '小家伙竟敢敲中学，你们敢玩杉木啊？'],\n",
       " [4.770457687254137e-66, '小屁孩竟敢飞翔棒球，你敢笑杉木啊？'],\n",
       " [4.4297107095931267e-66, '小家伙能跑男人，你竟敢看棒球吗？'],\n",
       " [4.0889637319321175e-66, '够胆看中学，你们能敲男人吗？'],\n",
       " [3.918590243101612e-66, '小崽子敢接思想，侬有本事勾引猎豹吗？'],\n",
       " [3.918590243101611e-66, '小屁孩可以拿冥王星，侬竟敢说物理吗？'],\n",
       " [3.918590243101611e-66, '小家伙有本事吃奥托，侬敢走门吗？'],\n",
       " [3.918590243101611e-66, '小屁孩有本事飞翔战斗机，你够胆唱奥托啊？'],\n",
       " [3.918590243101611e-66, '有本事勾引思想，侬敢吆喝奥托啊？'],\n",
       " [3.918590243101611e-66, '小白有本事坐猎豹，侬勾引战斗机啊？'],\n",
       " [3.918590243101611e-66, '小崽子有本事唱中学，侬飞翔冥王星吗？'],\n",
       " [3.918590243101611e-66, '白痴有本事笑物理，侬盯中学啊？'],\n",
       " [3.918590243101611e-66, '小白有本事借中学，你勾引猎豹吗？'],\n",
       " [3.918590243101611e-66, '小明有本事玩男人，你勾引棒球吗？'],\n",
       " [3.918590243101611e-66, '有本事吆喝笔，你够胆飞翔思想吗？'],\n",
       " [3.918590243101611e-66, '有本事听杉木，你竟敢勾引物理吗？'],\n",
       " [3.577843265440603e-66, '小明能喝蜗牛，侬可以玩男人吗？'],\n",
       " [3.577843265440603e-66, '小明有胆量听物理，你们拿中学啊？'],\n",
       " [3.577843265440603e-66, '小家伙竟敢盯笔，你难道不敢飞翔男人吗？'],\n",
       " [3.407469776610098e-66, '小家伙能唱战斗机，你们够胆看笔啊？'],\n",
       " [2.8963493101185827e-66, '小家伙能吃冥王星，侬可以借中学吗？'],\n",
       " [2.7259758212880783e-66, '小崽子竟敢开战斗机，你们可以盯中学啊？'],\n",
       " [2.7259758212880783e-66, '小明能吆喝杉木，侬能玩中学啊？'],\n",
       " [2.7259758212880783e-66, '小崽子能玩猎豹，你竟敢听杉木啊？'],\n",
       " [2.7259758212880783e-66, '小丫头竟敢走中学，侬能玩战斗机啊？'],\n",
       " [2.3852288436270685e-66, '白痴能走战斗机，你竟敢玩中学吗？'],\n",
       " [2.3852288436270685e-66, '小崽子有胆量吃棒球，你们走中学啊？'],\n",
       " [2.3852288436270685e-66, '小明走战斗机，你难道不敢走女人吗？'],\n",
       " [2.3852288436270685e-66, '小明跑猎豹，你难道不敢跑物理啊？'],\n",
       " [2.2148553547965634e-66, '小明能跑蜗牛，侬竟敢勾引战斗机啊？'],\n",
       " [2.2148553547965634e-66, '白痴竟敢借杉木，侬可以走飞机吗？'],\n",
       " [2.0444818659660582e-66, '能听冥王星，你们难道不敢唱战斗机吗？'],\n",
       " [1.703734888305049e-66, '小家伙敢接蜗牛，你们够胆吃过程吗？'],\n",
       " [1.3629879106440392e-66, '小屁孩敢看杉木，侬够胆走笔吗？'],\n",
       " [1.3629879106440392e-66, '小白竟敢跑杉木，你们可以喝奥托啊？'],\n",
       " [1.3629879106440392e-66, '小明够胆听笔，你们可以唱思想吗？'],\n",
       " [1.3629879106440392e-66, '小丫头可以坐中学，你们敢吃物理啊？'],\n",
       " [1.3629879106440392e-66, '小屁孩敢敲战斗机，你们可以盯蜗牛啊？'],\n",
       " [1.3450800102408117e-66, '小屁孩难道不敢唱思想，你能看女人啊？'],\n",
       " [1.1926144218135343e-66, '可以接冥王星，你难道不敢听思想吗？'],\n",
       " [1.1926144218135343e-66, '小家伙竟敢借女人，侬可以玩中学吗？'],\n",
       " [1.1926144218135343e-66, '小屁孩有胆量拿杉木，侬说笔吗？'],\n",
       " [1.1926144218135343e-66, '小崽子竟敢勾引中学，侬可以玩猎豹啊？'],\n",
       " [1.1926144218135343e-66, '小屁孩吆喝飞机，侬有胆量飞翔思想啊？'],\n",
       " [1.1926144218135343e-66, '小白敢盯门，侬有胆量玩猎豹啊？'],\n",
       " [1.1926144218135343e-66, '有胆量接物理，你竟敢敲杉木啊？'],\n",
       " [1.1926144218135343e-66, '有胆量看过程，侬竟敢喝蜗牛啊？'],\n",
       " [1.1926144218135343e-66, '有胆量盯男人，侬能吆喝奥托吗？'],\n",
       " [1.1926144218135343e-66, '够胆看门，侬有胆量飞翔奥托啊？'],\n",
       " [1.1926144218135343e-66, '有胆量走战斗机，你够胆勾引战斗机吗？'],\n",
       " [1.1926144218135343e-66, '小家伙有胆量唱奥托，你敢坐中学啊？'],\n",
       " [1.1926144218135343e-66, '小丫头敢唱战斗机，你难道不敢敲棒球吗？'],\n",
       " [1.1926144218135343e-66, '白痴有胆量玩杉木，侬飞翔杉木吗？'],\n",
       " [1.1926144218135343e-66, '小白能看过程，侬有胆量敲棒球吗？'],\n",
       " [1.0222409329830294e-66, '小明竟敢吆喝过程，侬可以开杉木啊？'],\n",
       " [1.0222409329830294e-66, '小屁孩能勾引飞机，侬可以听思想吗？'],\n",
       " [8.518674441525246e-67, '小丫头难道不敢盯男人，侬笑过程啊？'],\n",
       " [8.518674441525246e-67, '小崽子够胆接棒球，侬敢走过程啊？'],\n",
       " [8.518674441525245e-67, '小明可以喝冥王星，你们够胆笑物理吗？'],\n",
       " [8.518674441525245e-67, '小家伙说杉木，你们够胆看物理吗？'],\n",
       " [8.518674441525245e-67, '小明敢拿女人，你们够胆敲飞机吗？'],\n",
       " [6.814939553220196e-67, '难道不敢吃棒球，你够胆拿冥王星啊？'],\n",
       " [5.111204664915147e-67, '小家伙难道不敢走猎豹，你跑门啊？'],\n",
       " [3.407469776610098e-67, '小崽子可以跑奥托，侬竟敢飞翔笔啊？'],\n",
       " [3.407469776610098e-67, '小崽子够胆说笔，你们能接过程吗？'],\n",
       " [3.407469776610098e-67, '小家伙玩奥托，你们难道不敢拿女人吗？'],\n",
       " [3.407469776610098e-67, '小白可以勾引笔，侬敢吃物理啊？'],\n",
       " [3.407469776610098e-67, '小明竟敢走奥托，侬能盯过程吗？'],\n",
       " [3.407469776610098e-67, '小屁孩能勾引猎豹，你竟敢飞翔中学吗？'],\n",
       " [3.407469776610098e-67, '小家伙可以借杉木，侬敢开蜗牛吗？'],\n",
       " [3.407469776610098e-67, '小明可以跑战斗机，侬够胆借笔啊？'],\n",
       " [3.407469776610098e-67, '小白竟敢吃蜗牛，你够胆走杉木啊？'],\n",
       " [3.407469776610098e-67, '小丫头够胆跑思想，你们喝过程吗？'],\n",
       " [1.872114945309672e-67, '白痴能说门，你有胆量看男人啊？'],\n",
       " [1.703734888305049e-67, '小白竟敢说棒球，你们竟敢敲物理吗？'],\n",
       " [1.703734888305049e-67, '小家伙竟敢唱猎豹，你们竟敢拿蜗牛吗？'],\n",
       " [1.703734888305049e-67, '小崽子够胆飞翔棒球，你们借物理吗？'],\n",
       " [1.703734888305049e-67, '小明竟敢借奥托，你够胆勾引棒球啊？'],\n",
       " [1.703734888305049e-67, '小白够胆吆喝飞机，侬竟敢看蜗牛啊？'],\n",
       " [1.703734888305049e-67, '小白竟敢玩棒球，你竟敢喝奥托啊？'],\n",
       " [1.703734888305049e-67, '难道不敢借男人，侬竟敢跑门吗？'],\n",
       " [1.703734888305049e-67, '小家伙敢盯门，侬竟敢看奥托吗？'],\n",
       " [1.703734888305049e-67, '小丫头竟敢跑思想，侬竟敢跑物理吗？'],\n",
       " [1.703734888305049e-67, '小丫头敢笑蜗牛，你竟敢坐中学吗？'],\n",
       " [1.703734888305049e-67, '小白可以借思想，侬可以飞翔物理吗？'],\n",
       " [1.703734888305049e-67, '白痴敢吃奥托，你们竟敢吃战斗机吗？'],\n",
       " [1.703734888305049e-67, '小崽子竟敢敲杉木，你竟敢跑棒球吗？'],\n",
       " [1.703734888305049e-67, '小家伙竟敢飞翔笔，你竟敢走中学啊？'],\n",
       " [1.703734888305049e-67, '小屁孩竟敢唱物理，侬竟敢借冥王星吗？'],\n",
       " [1.703734888305049e-67, '小白够胆开奥托，侬难道不敢听棒球啊？'],\n",
       " [1.703734888305049e-67, '小崽子能接男人，侬难道不敢开棒球啊？'],\n",
       " [1.703734888305049e-67, '小丫头敢勾引笔，你竟敢敲冥王星啊？'],\n",
       " [1.703734888305049e-67, '小家伙竟敢吆喝杉木，你们竟敢跑笔吗？'],\n",
       " [1.703734888305049e-67, '小丫头够胆看笔，侬敢吆喝战斗机吗？'],\n",
       " [1.703734888305049e-67, '小明敢借男人，你们难道不敢玩奥托吗？'],\n",
       " [1.703734888305049e-67, '小家伙竟敢走蜗牛，你竟敢敲杉木啊？'],\n",
       " [1.703734888305049e-67, '小丫头够胆飞翔思想，侬敢喝棒球吗？'],\n",
       " [1.703734888305049e-67, '竟敢拿女人，侬难道不敢借战斗机啊？'],\n",
       " [1.703734888305049e-67, '白痴难道不敢跑奥托，侬说棒球吗？'],\n",
       " [1.703734888305049e-67, '小白敢盯女人，侬够胆玩飞机吗？'],\n",
       " [1.703734888305049e-67, '白痴够胆接物理，你竟敢跑冥王星啊？'],\n",
       " [1.703734888305049e-67, '小崽子够胆盯飞机，你够胆借中学吗？'],\n",
       " [1.703734888305049e-67, '白痴敢吆喝飞机，你们难道不敢拿门啊？'],\n",
       " [1.703734888305049e-67, '小家伙竟敢盯猎豹，侬够胆看门吗？'],\n",
       " [1.703734888305049e-67, '小家伙飞翔蜗牛，侬够胆坐冥王星吗？'],\n",
       " [1.703734888305049e-67, '小崽子竟敢吆喝飞机，你们难道不敢唱门吗？'],\n",
       " [1.703734888305049e-67, '小家伙敢走蜗牛，侬能喝蜗牛啊？'],\n",
       " [1.703734888305049e-67, '小丫头可以坐杉木，侬敢跑笔啊？'],\n",
       " [1.703734888305049e-67, '小丫头竟敢接猎豹，你竟敢飞翔猎豹吗？'],\n",
       " [4.4800800901251105e-68, '小家伙有本事走女人，你能跑男人啊？'],\n",
       " [3.879157093884906e-68, '有胆量勾引男人，你有本事笑男人啊？'],\n",
       " [2.594136110403363e-68, '小家伙可以吃男人，你有胆量唱女人啊？'],\n",
       " [1.7187155654065625e-68, '小丫头可以看男人，你有胆量吆喝冥王星吗？'],\n",
       " [1.67201164986295e-68, '小崽子难道不敢看女人，侬能看过程吗？'],\n",
       " [1.4645797191198115e-68, '白痴能说飞机，你有本事盯战斗机啊？'],\n",
       " [6.43578952268331e-69, '小崽子够胆听思想，你能看过程吗？'],\n",
       " [5.903065142868336e-69, '小明有胆量开门，你有胆量笑男人啊？'],\n",
       " [5.562591949253916e-69, '白痴飞翔冥王星，你这白痴能看飞机吗？'],\n",
       " [3.06146210088044e-69, '小丫头可以说冥王星，侬有胆量跑女人啊？'],\n",
       " [3.03471473331132e-69, '小屁孩有本事敲笔，你有本事勾引物理吗？'],\n",
       " [1.979592035155773e-69, '白痴敢喝猎豹，你这白痴可以说物理啊？'],\n",
       " [1.847217663754717e-69, '有胆量勾引战斗机，你有本事开女人吗？'],\n",
       " [1.4546839102068396e-69, '小白可以拿奥托，你这个窝囊废看男人啊？'],\n",
       " [9.897960175778867e-70, '小屁孩可以说杉木，你这白痴喝杉木啊？'],\n",
       " [8.834519261435603e-70, '难道不敢听奥托，你有胆量说女人吗？'],\n",
       " [8.432950204097623e-70, '白痴竟敢唱思想，你有胆量坐男人啊？'],\n",
       " [6.79153668222862e-70, '能看奥托，你这个窝囊废敢笑中学啊？'],\n",
       " [6.676085578243952e-70, '小丫头可以玩男人，你们有胆量吃女人啊？'],\n",
       " [6.59864011718591e-70, '白痴可以看猎豹，你这白痴可以听门吗？'],\n",
       " [6.425104917407712e-70, '小崽子敢看战斗机，你有胆量看物理啊？'],\n",
       " [6.413631515769482e-70, '小家伙说男人，你这白痴能跑过程吗？'],\n",
       " [5.340868462595159e-70, '小丫头有胆量勾引男人，你敢走女人啊？'],\n",
       " [5.2777647535849055e-70, '难道不敢敲战斗机，你有本事喝飞机啊？'],\n",
       " [3.958323565188679e-70, '小明够胆走过程，你有本事借男人吗？'],\n",
       " [3.545998193814858e-70, '白痴有本事吃门，你这白痴笑过程啊？'],\n",
       " [3.2821099561356123e-70, '小白有本事开思想，你能接过程吗？'],\n",
       " [2.8367985550518866e-70, '有本事唱冥王星，你这白痴接飞机啊？'],\n",
       " [1.8500860141642735e-70, '小丫头开飞机，你这白痴竟敢玩飞机啊？'],\n",
       " [1.8472176637547168e-70, '小家伙有本事跑思想，你敢看蜗牛啊？'],\n",
       " [1.449234044428681e-70, '吆喝思想，你这白痴难道不敢看冥王星吗？'],\n",
       " [1.3194411883962264e-70, '小崽子够胆唱蜗牛，你有本事看战斗机吗？'],\n",
       " [1.3194411883962264e-70, '小屁孩够胆看战斗机，你有本事拿门啊？'],\n",
       " [1.3194411883962264e-70, '够胆飞翔女人，你有本事看中学啊？'],\n",
       " [1.2129536794414225e-70, '小屁孩难道不敢听女人，你能吃门啊？'],\n",
       " [1.212236591839033e-70, '有胆量勾引杉木，侬有本事走男人啊？'],\n",
       " [1.1243933605463493e-70, '白痴有胆量看男人，你敢看中学吗？'],\n",
       " [1.1215250101367923e-70, '小白有本事勾引杉木，你可以借杉木啊？'],\n",
       " [1.0483820746930883e-70, '白痴说思想，你这白痴能吃女人吗？'],\n",
       " [9.989030301282301e-71, '小白有胆量笑男人，你能勾引女人吗？'],\n",
       " [9.236088318773582e-71, '小屁孩有本事吆喝冥王星，你们能走思想吗？'],\n",
       " [7.0919963876297166e-71, '小白开过程，你这白痴有本事借蜗牛吗？'],\n",
       " [7.0274585034146866e-71, '小屁孩可以玩战斗机，你们有胆量说飞机啊？'],\n",
       " [6.927066239080187e-71, '有本事看思想，你这个窝囊废盯女人吗？'],\n",
       " [6.7836487186023365e-71, '小崽子坐战斗机，你这白痴能笑笔吗？'],\n",
       " [6.597205941981132e-71, '小屁孩敢看战斗机，你们有本事喝杉木吗？'],\n",
       " [5.772555199233491e-71, '白痴敢玩战斗机，你们有本事勾引门吗？'],\n",
       " [5.77255519923349e-71, '小屁孩有胆量玩猎豹，你们有本事吃笔啊？'],\n",
       " [5.77255519923349e-71, '小白有本事坐笔，你们有胆量看战斗机吗？'],\n",
       " [5.270593877561014e-71, '小屁孩敢笑思想，你们有胆量跑男人啊？'],\n",
       " [5.2419103734654416e-71, '可以吃飞机，你这白痴可以唱思想啊？'],\n",
       " [5.2419103734654416e-71, '小丫头能吃猎豹，你这白痴接思想吗？'],\n",
       " [4.9945151506411504e-71, '白痴有胆量勾引女人，你能吆喝飞机吗？'],\n",
       " [4.618044159386791e-71, '小屁孩有本事勾引杉木，你们可以玩杉木吗？'],\n",
       " [4.535579085112026e-71, '有本事说女人，侬难道不敢吆喝过程啊？'],\n",
       " [4.01569057337982e-71, '小崽子够胆坐飞机，你有胆量玩奥托啊？'],\n",
       " [4.01569057337982e-71, '小家伙能勾引棒球，你有胆量敲蜗牛吗？'],\n",
       " [4.01569057337982e-71, '小屁孩竟敢拿冥王星，你有胆量跑杉木吗？'],\n",
       " [4.01569057337982e-71, '小家伙可以盯猎豹，你有胆量看猎豹吗？'],\n",
       " [3.915298309045325e-71, '小屁孩能跑思想，你这个窝囊废敢坐笔吗？'],\n",
       " [3.614121516041837e-71, '小屁孩有胆量玩过程，你们可以开男人吗？'],\n",
       " [3.5137292517073433e-71, '小白有胆量吃笔，你们有胆量看棒球吗？'],\n",
       " [3.4635331195400936e-71, '有本事吆喝战斗机，你这个窝囊废飞翔思想吗？'],\n",
       " [3.413336987372847e-71, '小明有胆量走物理，你可以飞翔奥托啊？'],\n",
       " [3.413336987372847e-71, '白痴有胆量笑杉木，你可以坐蜗牛吗？'],\n",
       " [3.413336987372847e-71, '小崽子有胆量借棒球，你可以盯冥王星吗？'],\n",
       " [3.298602970990566e-71, '小白够胆吆喝物理，你们有本事看飞机吗？'],\n",
       " [3.162356326536608e-71, '小屁孩跑中学，你这个窝囊废敢飞翔男人啊？'],\n",
       " [3.069134938226004e-71, '小白可以看奥托，侬难道不敢吃杉木啊？'],\n",
       " [2.5600027405296347e-71, '小白听战斗机，你这个窝囊废可以吃飞机吗？'],\n",
       " [2.466781352219032e-71, '能吆喝奥托，你这白痴能开过程吗？'],\n",
       " [2.4094143440278917e-71, '白痴能唱门，你这个窝囊废难道不敢吃飞机啊？'],\n",
       " [2.309022079693396e-71, '小崽子有本事说过程，你敢听战斗机吗？'],\n",
       " [2.1584336831916527e-71, '小白开冥王星，你这白痴有胆量接奥托啊？'],\n",
       " [1.9576491545226625e-71, '小崽子可以走冥王星，你这个窝囊废敢看门啊？'],\n",
       " [1.8966967083195747e-71, '白痴有本事盯门，侬有本事看猎豹啊？'],\n",
       " [1.8070607580209185e-71, '白痴能听战斗机，你这个窝囊废敢借笔吗？'],\n",
       " [1.8070607580209185e-71, '小白敢喝冥王星，你这个窝囊废能听冥王星啊？'],\n",
       " [1.4915422129696472e-71, '小崽子敢说男人，你们难道不敢跑物理啊？'],\n",
       " [1.3194411883962265e-71, '小白难道不敢吆喝过程，你们可以拿过程吗？'],\n",
       " [1.233390676109516e-71, '小崽子能接奥托，你这白痴可以吆喝飞机啊？'],\n",
       " [1.204707172013946e-71, '小崽子敢看冥王星，你这个窝囊废拿飞机吗？'],\n",
       " [1.2047071720139459e-71, '竟敢说男人，你这个窝囊废竟敢拿中学啊？'],\n",
       " [1.1545110398466978e-71, '白痴有本事拿蜗牛，侬敢玩物理啊？'],\n",
       " [1.1043149076794504e-71, '小丫头可以跑中学，侬有胆量看女人吗？'],\n",
       " [1.0541187755122027e-71, '有胆量拿思想，你这个窝囊废敢坐笔吗？'],\n",
       " [1.0541187755122027e-71, '听女人，你这个窝囊废有胆量飞翔物理吗？'],\n",
       " [1.0541187755122027e-71, '笑过程，你这个窝囊废有胆量盯奥托啊？'],\n",
       " [1.0541187755122027e-71, '小明敢吆喝门，你这个窝囊废有胆量说门啊？'],\n",
       " [1.0541187755122027e-71, '小丫头有胆量借蜗牛，你这个窝囊废唱笔啊？'],\n",
       " [1.003922643344955e-71, '小屁孩能盯奥托，你们有胆量吆喝女人吗？'],\n",
       " [1.003922643344955e-71, '小白竟敢看飞机，你们有胆量开蜗牛啊？'],\n",
       " [9.752391392493847e-72, '小家伙够胆吆喝男人，你可以跑笔吗？'],\n",
       " [9.537265111777074e-72, '小明竟敢听男人，侬有胆量飞翔女人啊？'],\n",
       " [9.537265111777074e-72, '小丫头有胆量接飞机，侬竟敢喝女人啊？'],\n",
       " [9.537265111777074e-72, '有胆量玩中学，你们难道不敢听女人啊？'],\n",
       " [9.250430070821369e-72, '竟敢看思想，你这白痴敢盯男人吗？'],\n",
       " [9.035303790104592e-72, '小明敢借飞机，你这个窝囊废可以开蜗牛啊？'],\n",
       " [8.246507427476415e-72, '小崽子能盯中学，你们有本事听奥托啊？'],\n",
       " [8.246507427476415e-72, '小崽子可以坐思想，你们有本事走奥托啊？'],\n",
       " [8.246507427476415e-72, '小崽子敢勾引冥王星，你们有本事吆喝棒球吗？'],\n",
       " [8.246507427476415e-72, '小明够胆听笔，你们有本事接冥王星吗？'],\n",
       " [8.246507427476415e-72, '小家伙竟敢走冥王星，你们有本事吃猎豹吗？'],\n",
       " [7.529419825087164e-72, '小明够胆跑笔，你这个窝囊废开过程啊？'],\n",
       " [7.529419825087164e-72, '小白够胆喝战斗机，你这个窝囊废敢开过程啊？'],\n",
       " [7.529419825087162e-72, '小白有胆量听物理，侬可以笑过程啊？'],\n",
       " [7.135021643773072e-72, '小屁孩难道不敢接奥托，你能吆喝奥托吗？'],\n",
       " [7.135021643773072e-72, '小白难道不敢开中学，你能敲冥王星吗？'],\n",
       " [7.027458503414683e-72, '小家伙有胆量跑过程，你敢勾引战斗机啊？'],\n",
       " [7.027458503414683e-72, '小屁孩有胆量敲物理，你敢吆喝杉木啊？'],\n",
       " [6.740623462458983e-72, '小白难道不敢看猎豹，你够胆吃飞机啊？'],\n",
       " [6.597205941981132e-72, '小家伙敢看杉木，侬有本事走猎豹啊？'],\n",
       " [6.59720594198113e-72, '小明有本事唱思想，你们可以坐思想啊？'],\n",
       " [6.02353586006973e-72, '小屁孩可以唱棒球，你这个窝囊废看飞机吗？'],\n",
       " [6.023535860069729e-72, '小白敢玩思想，你这个窝囊废敢拿杉木吗？'],\n",
       " [6.023535860069729e-72, '小丫头玩过程，你这个窝囊废能开棒球吗？'],\n",
       " [5.52157453839725e-72, '小崽子能笑女人，侬有胆量拿猎豹吗？'],\n",
       " [5.019613216724775e-72, '小丫头可以跑过程，你们有胆量跑杉木啊？'],\n",
       " [5.019613216724775e-72, '小崽子敢跑男人，你们有胆量吃物理啊？'],\n",
       " [4.517651895052296e-72, '小屁孩接物理，你这个窝囊废可以盯男人吗？'],\n",
       " [4.2666712342160575e-72, '小家伙可以吃中学，侬有胆量笑杉木吗？'],\n",
       " [4.1232537137382074e-72, '小丫头有本事说笔，你们够胆敲中学啊？'],\n",
       " [4.1232537137382074e-72, '小丫头竟敢坐中学，侬有本事跑过程啊？'],\n",
       " [4.0156905733798197e-72, '小白难道不敢吃猎豹，你敢吆喝杉木吗？'],\n",
       " [3.728855532424118e-72, '小屁孩能跑门，你们难道不敢吃中学吗？'],\n",
       " [3.442020491468417e-72, '白痴难道不敢走奥托，你们能听飞机吗？'],\n",
       " [3.2627485908711034e-72, '小白有胆量喝物理，侬可以走战斗机啊？'],\n",
       " [3.0834766902737904e-72, '小家伙难道不敢吆喝笔，你这白痴看笔吗？'],\n",
       " [3.08347669027379e-72, '够胆敲过程，你这白痴跑棒球啊？'],\n",
       " [3.08347669027379e-72, '小崽子竟敢开笔，你这白痴竟敢飞翔杉木啊？'],\n",
       " [3.08347669027379e-72, '小丫头竟敢借门，你这白痴竟敢笑冥王星啊？'],\n",
       " [3.08347669027379e-72, '小家伙能看门，你这白痴敢走战斗机啊？'],\n",
       " [3.08347669027379e-72, '竟敢接猎豹，你这白痴敢笑猎豹啊？'],\n",
       " [3.08347669027379e-72, '小崽子竟敢跑中学，你这白痴敢喝思想吗？'],\n",
       " [3.08347669027379e-72, '小家伙说蜗牛，你这白痴够胆唱棒球吗？'],\n",
       " [3.08347669027379e-72, '可以敲思想，你这白痴可以唱冥王星啊？'],\n",
       " [3.08347669027379e-72, '小丫头能喝门，你这白痴竟敢喝战斗机啊？'],\n",
       " [3.08347669027379e-72, '难道不敢坐女人，你这白痴竟敢接笔吗？'],\n",
       " [3.08347669027379e-72, '小崽子竟敢看冥王星，你这白痴可以走门吗？'],\n",
       " [3.08347669027379e-72, '小家伙敢坐飞机，你这白痴敢笑奥托啊？'],\n",
       " [3.08347669027379e-72, '难道不敢勾引奥托，你这白痴敢唱猎豹吗？'],\n",
       " [3.08347669027379e-72, '小屁孩竟敢吆喝思想，你这白痴坐思想吗？'],\n",
       " [3.08347669027379e-72, '小白能拿中学，你这白痴难道不敢敲笔啊？'],\n",
       " [3.08347669027379e-72, '小白玩蜗牛，你这白痴竟敢喝杉木啊？'],\n",
       " [3.08347669027379e-72, '小丫头竟敢看杉木，你这白痴敲物理吗？'],\n",
       " [3.08347669027379e-72, '小明盯过程，你这白痴可以敲猎豹啊？'],\n",
       " [3.08347669027379e-72, '小丫头可以借飞机，你这白痴竟敢借笔吗？'],\n",
       " [3.011767930034865e-72, '小家伙能借男人，你这个窝囊废借飞机吗？'],\n",
       " [3.011767930034865e-72, '小屁孩能飞翔奥托，你这个窝囊废拿杉木吗？'],\n",
       " [3.0117679300348647e-72, '小家伙够胆唱门，你这个窝囊废能借猎豹吗？'],\n",
       " [3.0117679300348647e-72, '小丫头敲战斗机，你这个窝囊废敢盯过程吗？'],\n",
       " [3.0117679300348647e-72, '能借飞机，你这个窝囊废竟敢借猎豹吗？'],\n",
       " [2.5098066083623876e-72, '白痴竟敢玩飞机，你们有胆量敲杉木吗？'],\n",
       " [2.5098066083623876e-72, '小丫头敢吃物理，你们有胆量说中学啊？'],\n",
       " [2.5098066083623876e-72, '小丫头难道不敢开门，你们有胆量笑战斗机啊？'],\n",
       " [2.5098066083623876e-72, '小家伙竟敢开过程，你们有胆量开猎豹吗？'],\n",
       " [2.5098066083623876e-72, '小家伙竟敢盯男人，你们有胆量敲蜗牛吗？'],\n",
       " [2.0078452866899099e-72, '小崽子够胆看蜗牛，你们可以玩战斗机啊？'],\n",
       " [1.6851558656147458e-72, '白痴敢飞翔蜗牛，你们难道不敢看战斗机吗？'],\n",
       " [1.649301485495283e-72, '小家伙竟敢坐奥托，侬有本事看过程吗？'],\n",
       " [1.649301485495283e-72, '白痴可以坐中学，侬有本事借物理啊？'],\n",
       " [1.6493014854952824e-72, '小明有本事走杉木，侬可以盯过程吗？'],\n",
       " [1.5058839650174326e-72, '小丫头竟敢笑杉木，你这个窝囊废可以喝门啊？'],\n",
       " [1.5058839650174326e-72, '小屁孩竟敢喝战斗机，你这个窝囊废敢借猎豹吗？'],\n",
       " [1.5058839650174326e-72, '够胆走杉木，你这个窝囊废敢坐物理吗？'],\n",
       " [1.5058839650174326e-72, '小丫头难道不敢唱门，你这个窝囊废能接奥托啊？'],\n",
       " [1.5058839650174326e-72, '小屁孩敢飞翔战斗机，你这个窝囊废吃中学吗？'],\n",
       " [1.5058839650174326e-72, '小明难道不敢拿笔，你这个窝囊废够胆笑门啊？'],\n",
       " [1.5058839650174323e-72, '小崽子走杉木，你这个窝囊废能勾引思想啊？'],\n",
       " [1.5058839650174323e-72, '小明看过程，你这个窝囊废够胆接猎豹啊？'],\n",
       " [1.5058839650174323e-72, '小白玩中学，你这个窝囊废竟敢看思想吗？'],\n",
       " [1.5058839650174323e-72, '小白够胆说过程，你这个窝囊废竟敢跑门啊？'],\n",
       " [1.5058839650174323e-72, '能盯男人，你这个窝囊废能敲中学吗？'],\n",
       " [1.5058839650174323e-72, '小丫头敢借杉木，你这个窝囊废竟敢玩猎豹啊？'],\n",
       " [1.5058839650174323e-72, '小屁孩敢唱棒球，你这个窝囊废难道不敢喝笔啊？'],\n",
       " [1.5058839650174323e-72, '白痴敢敲笔，你这个窝囊废敢走蜗牛啊？'],\n",
       " [1.5058839650174323e-72, '小丫头拿蜗牛，你这个窝囊废能勾引门啊？'],\n",
       " [1.5058839650174323e-72, '小丫头能开门，你这个窝囊废敢笑笔吗？'],\n",
       " [1.5058839650174323e-72, '小白吃女人，你这个窝囊废敢勾引飞机吗？'],\n",
       " [1.362466444539582e-72, '小崽子够胆喝思想，侬敢走女人啊？'],\n",
       " [1.2549033041811938e-72, '小屁孩有胆量坐门，你们够胆玩物理吗？'],\n",
       " [1.2549033041811938e-72, '小白可以玩蜗牛，你们够胆说冥王星啊？'],\n",
       " [1.1473401638228056e-72, '小丫头能开战斗机，侬难道不敢走飞机啊？'],\n",
       " [1.0039226433449549e-72, '小丫头有胆量拿猎豹，侬敢飞翔飞机啊？'],\n",
       " [1.0039226433449549e-72, '小家伙难道不敢盯冥王星，你们敢玩猎豹吗？'],\n",
       " [9.322138831060295e-73, '小崽子够胆飞翔战斗机，侬敢说物理吗？'],\n",
       " [8.605051228671042e-73, '小白难道不敢借棒球，你们可以吆喝男人吗？'],\n",
       " [8.246507427476415e-73, '白痴竟敢接男人，侬有本事喝飞机吗？'],\n",
       " [8.246507427476415e-73, '小崽子敢走物理，侬有本事敲思想啊？'],\n",
       " [8.246507427476415e-73, '小崽子可以吆喝过程，侬有本事盯杉木吗？'],\n",
       " [8.246507427476412e-73, '白痴有本事跑奥托，侬可以唱棒球啊？'],\n",
       " [8.246507427476412e-73, '小明有本事喝物理，侬够胆笑蜗牛吗？'],\n",
       " [8.246507427476412e-73, '小白有本事听过程，侬敢盯蜗牛吗？'],\n",
       " [8.246507427476412e-73, '小家伙有本事听棒球，你竟敢走猎豹啊？'],\n",
       " [7.529419825087162e-73, '难道不敢吆喝蜗牛，侬有胆量吃男人吗？'],\n",
       " [7.170876023892535e-73, '小屁孩竟敢飞翔笔，你们够胆拿飞机啊？'],\n",
       " [7.170876023892535e-73, '小家伙竟敢看飞机，你们够胆吆喝猎豹啊？'],\n",
       " [5.736700819114028e-73, '小崽子难道不敢敲蜗牛，你们敢拿战斗机吗？'],\n",
       " [5.0196132167247746e-73, '小崽子够胆开猎豹，侬有胆量开战斗机吗？'],\n",
       " [5.0196132167247746e-73, '小屁孩够胆敲笔，你难道不敢借过程吗？'],\n",
       " [5.0196132167247746e-73, '小屁孩敢盯男人，你难道不敢敲物理啊？'],\n",
       " [3.5854380119462676e-73, '小屁孩难道不敢开笔，你们够胆喝女人吗？'],\n",
       " [2.868350409557014e-73, '小明难道不敢飞翔蜗牛，你们能喝思想吗？'],\n",
       " [2.868350409557014e-73, '小崽子难道不敢借思想，你们能勾引中学啊？'],\n",
       " [2.5098066083623873e-73, '小明可以勾引过程，侬有胆量笑蜗牛啊？'],\n",
       " [2.5098066083623873e-73, '小丫头竟敢走物理，侬有胆量笑棒球吗？'],\n",
       " [2.5098066083623873e-73, '小家伙有胆量借奥托，侬竟敢坐猎豹啊？'],\n",
       " [2.5098066083623873e-73, '白痴竟敢敲杉木，侬有胆量唱思想吗？'],\n",
       " [2.5098066083623873e-73, '白痴有胆量飞翔过程，侬竟敢唱杉木啊？'],\n",
       " [2.5098066083623873e-73, '小屁孩难道不敢拿笔，侬有胆量坐战斗机啊？'],\n",
       " [2.5098066083623873e-73, '小屁孩有胆量盯蜗牛，你竟敢吆喝猎豹啊？'],\n",
       " [2.5098066083623873e-73, '白痴敢勾引思想，你难道不敢借物理吗？'],\n",
       " [2.5098066083623873e-73, '小屁孩竟敢拿棒球，侬有胆量拿战斗机啊？'],\n",
       " [2.5098066083623873e-73, '难道不敢听蜗牛，你难道不敢飞翔门吗？'],\n",
       " [2.5098066083623873e-73, '小屁孩有胆量飞翔战斗机，侬够胆听门啊？'],\n",
       " [1.7927190059731338e-73, '小丫头可以唱物理，你们够胆坐奥托啊？'],\n",
       " [1.7927190059731338e-73, '小白够胆走飞机，你们够胆喝中学吗？'],\n",
       " [1.7927190059731338e-73, '白痴够胆玩奥托，你们够胆笑飞机吗？'],\n",
       " [1.7927190059731338e-73, '小白难道不敢走思想，你们够胆喝门吗？'],\n",
       " [1.7927190059731338e-73, '小家伙能勾引过程，你们够胆吆喝棒球啊？'],\n",
       " [1.7927190059731338e-73, '小家伙够胆唱过程，你们够胆走奥托啊？'],\n",
       " [1.434175204778507e-73, '小家伙难道不敢飞翔战斗机，侬能开中学吗？'],\n",
       " [1.434175204778507e-73, '小崽子难道不敢走杉木，你们敢吃猎豹啊？'],\n",
       " [1.0756314035838803e-73, '小屁孩够胆吃男人，侬能坐男人吗？'],\n",
       " [1.0756314035838803e-73, '小屁孩够胆走笔，侬够胆拿男人吗？'],\n",
       " [7.170876023892535e-74, '小家伙够胆吃蜗牛，你们竟敢唱思想吗？'],\n",
       " [7.170876023892535e-74, '小崽子可以唱飞机，你们难道不敢拿女人吗？'],\n",
       " [7.170876023892535e-74, '小崽子可以吆喝中学，你们难道不敢拿物理啊？'],\n",
       " [7.170876023892535e-74, '小崽子竟敢飞翔思想，侬难道不敢走过程吗？'],\n",
       " [3.5854380119462676e-74, '小屁孩够胆吃棒球，你竟敢吆喝棒球啊？'],\n",
       " [3.5854380119462676e-74, '白痴难道不敢听物理，你竟敢接冥王星啊？'],\n",
       " [3.5854380119462676e-74, '小白竟敢拿猎豹，侬够胆坐猎豹啊？'],\n",
       " [3.5854380119462676e-74, '白痴能飞翔冥王星，你们难道不敢吆喝门吗？'],\n",
       " [3.5854380119462676e-74, '小崽子够胆开奥托，侬够胆喝蜗牛啊？'],\n",
       " [3.5854380119462676e-74, '小屁孩够胆唱物理，侬够胆玩思想吗？'],\n",
       " [3.5854380119462676e-74, '小崽子够胆说门，侬敢吆喝棒球吗？'],\n",
       " [3.5854380119462676e-74, '白痴够胆说战斗机，侬敢笑思想吗？'],\n",
       " [3.5854380119462676e-74, '白痴够胆勾引战斗机，侬能坐冥王星吗？'],\n",
       " [3.5854380119462676e-74, '小家伙够胆看冥王星，侬竟敢吆喝战斗机啊？'],\n",
       " [3.5854380119462676e-74, '小屁孩难道不敢笑奥托，你够胆听蜗牛啊？'],\n",
       " [2.9988448283750013e-74, '白痴难道不敢说男人，你有本事吆喝过程啊？'],\n",
       " [2.4268429444442144e-74, '白痴有本事飞翔冥王星，你有本事盯女人啊？'],\n",
       " [1.341150048245487e-74, '小崽子有本事飞翔飞机，你有本事跑男人啊？'],\n",
       " [9.581725732884296e-75, '可以说物理，你这白痴有本事借女人吗？'],\n",
       " [8.536989282258278e-75, '敢说女人，你这白痴有本事吃蜗牛啊？'],\n",
       " [3.2872753899930146e-75, '白痴能看过程，你这个窝囊废有本事敲门吗？'],\n",
       " [2.834415413872314e-75, '小屁孩可以喝战斗机，你这白痴敢说男人啊？'],\n",
       " [2.0408805081996538e-75, '白痴有本事接蜗牛，你们有胆量说男人啊？'],\n",
       " [1.6276338959803463e-75, '白痴可以说物理，你这个窝囊废能玩奥托吗？'],\n",
       " [1.30505284197801e-75, '小屁孩难道不敢看过程，你有本事看杉木啊？'],\n",
       " [1.30505284197801e-75, '小丫头难道不敢看猎豹，你有本事喝思想啊？'],\n",
       " [8.138169479901729e-76, '小屁孩敢看中学，你这个窝囊废可以说杉木啊？'],\n",
       " [3.887391444189817e-76, '白痴有本事喝战斗机，你有胆量吆喝女人吗？'],\n",
       " [3.549357405564616e-76, '小白难道不敢飞翔杉木，你有胆量勾引男人啊？'],\n",
       " [3.371889535286386e-76, '有胆量勾引棒球，你这个窝囊废敢拿女人啊？'],\n",
       " [2.926559871008273e-76, '小丫头竟敢借女人，你这白痴能看冥王星吗？'],\n",
       " [2.8585003391243605e-76, '小屁孩能看奥托，你这个窝囊废可以借棒球吗？'],\n",
       " [2.5511006352495673e-76, '小崽子有本事喝女人，你们有胆量坐男人啊？'],\n",
       " [1.9436957220949087e-76, '小丫头有胆量接猎豹，你有本事说奥托吗？'],\n",
       " [1.9436957220949084e-76, '小家伙有本事唱奥托，你有胆量唱物理吗？'],\n",
       " [1.765020587393016e-76, '小明可以吃飞机，你这白痴敢看棒球啊？'],\n",
       " [1.5306603811497407e-76, '小崽子敲战斗机，你这个窝囊废有本事拿男人啊？'],\n",
       " [1.3886559033165645e-76, '小崽子可以看中学，你这白痴竟敢勾引物理吗？'],\n",
       " [9.538898027454904e-77, '白痴能喝笔，你这白痴有胆量吆喝男人啊？'],\n",
       " [9.47551664521268e-77, '小白有本事盯笔，你这个窝囊废能跑思想吗？'],\n",
       " [8.954883862508685e-77, '有本事玩杉木，你这白痴可以开中学啊？'],\n",
       " [8.619867984942641e-77, '白痴敢看战斗机，你这个窝囊废能吃过程吗？'],\n",
       " [8.429723838215962e-77, '小丫头盯女人，你这个窝囊废有胆量笑女人啊？'],\n",
       " [6.0740491315465885e-77, '小家伙有本事接思想，你们有胆量开过程啊？'],\n",
       " [5.831087166284727e-77, '小屁孩能开女人，你这个窝囊废有本事盯门吗？'],\n",
       " [5.5458709461947125e-77, '小屁孩有胆量开飞机，你们有胆量敲杉木啊？'],\n",
       " [5.4613624365384115e-77, '小明难道不敢玩棒球，你难道不敢看女人吗？'],\n",
       " [3.991518000730616e-77, '小家伙有本事跑男人，你们有本事吆喝战斗机吗？'],\n",
       " [3.6444294789279534e-77, '有本事笑中学，你这个窝囊废敢飞翔过程啊？'],\n",
       " [3.3803403862520158e-77, '小家伙难道不敢走思想，你有胆量笑飞机啊？'],\n",
       " [3.374304064133707e-77, '小明够胆跑中学，你这白痴敢说物理啊？'],\n",
       " [2.9849612875028956e-77, '小白有本事走战斗机，你这白痴玩过程吗？'],\n",
       " [2.776708174421298e-77, '小丫头难道不敢勾引笔，你有本事坐奥托吗？'],\n",
       " [2.776708174421298e-77, '小家伙难道不敢跑思想，你有本事飞翔杉木吗？'],\n",
       " [2.776708174421298e-77, '小崽子够胆勾引思想，你有本事盯思想吗？'],\n",
       " [2.776708174421298e-77, '小家伙难道不敢接奥托，你有本事唱思想啊？'],\n",
       " [2.465837585328479e-77, '小白可以勾引战斗机，你这白痴能喝女人啊？'],\n",
       " [2.20627573424127e-77, '白痴可以吃奥托，你这白痴敢勾引物理啊？'],\n",
       " [2.15496699623566e-77, '小屁孩能吃男人，你这个窝囊废可以飞翔过程吗？'],\n",
       " [2.0764948086976665e-77, '小屁孩能玩蜗牛，你这白痴竟敢吃物理吗？'],\n",
       " [1.816932957610458e-77, '小明有胆量跑飞机，你这白痴敢唱飞机啊？'],\n",
       " [1.6901701931260079e-77, '小白难道不敢喝物理，你有胆量喝过程吗？'],\n",
       " [1.6871520320668536e-77, '小丫头竟敢勾引男人，你这白痴能跑战斗机啊？'],\n",
       " [1.6479159382978578e-77, '小白可以接战斗机，你这个窝囊废可以走飞机啊？'],\n",
       " [1.4924806437514478e-77, '有本事敲奥托，你这白痴竟敢说蜗牛吗？'],\n",
       " [1.4924806437514474e-77, '敢盯女人，你这白痴有本事听棒球啊？'],\n",
       " [1.4924806437514474e-77, '小丫头听棒球，你这白痴有本事吃奥托啊？'],\n",
       " [1.4924806437514474e-77, '小崽子玩男人，你这白痴有本事看奥托吗？'],\n",
       " [1.4924806437514474e-77, '小明够胆借男人，你这白痴有本事拿中学吗？'],\n",
       " [1.4924806437514474e-77, '小明敢听思想，你这白痴有本事盯杉木吗？'],\n",
       " [1.3943904093289564e-77, '小崽子可以跑女人，你这个窝囊废能笑中学啊？'],\n",
       " [1.2148098263093181e-77, '小家伙有胆量吃蜗牛，侬有本事玩过程啊？'],\n",
       " [1.214809826309318e-77, '小丫头有胆量吃女人，你们有本事说奥托啊？'],\n",
       " [1.2042462626022806e-77, '小家伙听思想，你这个窝囊废难道不敢勾引女人啊？'],\n",
       " [1.0382474043488332e-77, '小屁孩能借猎豹，你这白痴竟敢飞翔飞机啊？'],\n",
       " [1.0382474043488332e-77, '小屁孩敢看男人，你这白痴敢听笔啊？'],\n",
       " [1.0382474043488332e-77, '小屁孩竟敢借女人，你这白痴能玩奥托吗？'],\n",
       " [8.87339351391154e-78, '小崽子竟敢借物理，你这个窝囊废能走女人吗？'],\n",
       " [8.450850965630039e-78, '小丫头难道不敢敲棒球，你有胆量吆喝笔吗？'],\n",
       " [8.450850965630039e-78, '白痴难道不敢开冥王星，你有胆量接思想啊？'],\n",
       " [8.435760160334268e-78, '白痴能敲杉木，你这白痴可以走思想啊？'],\n",
       " [8.435760160334267e-78, '小家伙能跑男人，你这白痴够胆接猎豹吗？'],\n",
       " [8.239579691489289e-78, '小家伙可以接中学，你这个窝囊废敢说中学啊？'],\n",
       " [7.801946337912019e-78, '白痴难道不敢玩冥王星，侬难道不敢看女人吗？'],\n",
       " [7.605765869067033e-78, '小屁孩能听冥王星，你这个窝囊废可以吆喝冥王星吗？'],\n",
       " [7.288858957855908e-78, '够胆看蜗牛，你这个窝囊废可以拿杉木吗？'],\n",
       " [7.288858957855906e-78, '小明有本事借男人，你这个窝囊废听中学吗？'],\n",
       " [7.288858957855906e-78, '小白敲思想，你这个窝囊废有本事吃猎豹吗？'],\n",
       " [7.288858957855906e-78, '敢敲女人，你这个窝囊废有本事敲奥托啊？'],\n",
       " [7.288858957855906e-78, '小白有本事喝冥王星，你这个窝囊废跑蜗牛啊？'],\n",
       " [7.288858957855906e-78, '小崽子有本事飞翔杉木，你这个窝囊废盯蜗牛吗？'],\n",
       " [7.288858957855906e-78, '小屁孩有本事听蜗牛，你这个窝囊废竟敢听笔啊？'],\n",
       " [7.288858957855906e-78, '小白有本事走蜗牛，你这个窝囊废竟敢敲门吗？'],\n",
       " [7.288858957855906e-78, '白痴有本事坐冥王星，你这个窝囊废飞翔猎豹吗？'],\n",
       " [7.288858957855906e-78, '小明飞翔笔，你这个窝囊废有本事走棒球啊？'],\n",
       " [6.655045135433657e-78, '白痴难道不敢拿棒球，你这个窝囊废敢坐男人啊？'],\n",
       " [6.655045135433655e-78, '小白敢喝冥王星，你这个窝囊废难道不敢跑男人啊？'],\n",
       " [6.489046277180208e-78, '小白竟敢吃蜗牛，你这白痴竟敢笑过程啊？'],\n",
       " [5.070510579378023e-78, '小崽子能玩中学，你这个窝囊废敢勾引笔吗？'],\n",
       " [5.070510579378023e-78, '小屁孩能开战斗机，你这个窝囊废够胆接战斗机啊？'],\n",
       " [4.964874942307648e-78, '小家伙难道不敢看杉木，侬有胆量听物理啊？'],\n",
       " [4.859239305237272e-78, '小明有本事开蜗牛，你难道不敢吃物理吗？'],\n",
       " [4.542332394026145e-78, '有胆量说奥托，你这白痴够胆借中学啊？'],\n",
       " [4.542332394026145e-78, '小丫头敢玩冥王星，你这白痴竟敢唱思想啊？'],\n",
       " [4.542332394026145e-78, '小家伙有胆量坐门，你这白痴能坐蜗牛吗？'],\n",
       " [4.542332394026145e-78, '有胆量玩飞机，你这白痴竟敢勾引战斗机吗？'],\n",
       " [4.542332394026145e-78, '小家伙有胆量敲杉木，你这白痴竟敢看门吗？'],\n",
       " [4.542332394026145e-78, '小屁孩有胆量说门，你这白痴可以吆喝物理吗？'],\n",
       " [4.542332394026144e-78, '白痴敢开棒球，你这白痴有胆量吃冥王星啊？'],\n",
       " [3.893427766308125e-78, '白痴够胆看物理，你这白痴看男人吗？'],\n",
       " [3.6972472974631422e-78, '小家伙有胆量笑杉木，你们有胆量看杉木吗？'],\n",
       " [3.6972472974631422e-78, '小崽子有胆量开中学，你们有胆量飞翔猎豹吗？'],\n",
       " [3.6444294789279537e-78, '小家伙有胆量坐男人，侬有本事飞翔男人吗？'],\n",
       " [3.4708852180266226e-78, '小家伙够胆敲过程，你们有本事借过程吗？'],\n",
       " [3.2445231385901045e-78, '小崽子够胆拿男人，你这白痴看过程啊？'],\n",
       " [3.169069112111264e-78, '小白难道不敢开飞机，侬有胆量笑飞机啊？'],\n",
       " [2.595618510872083e-78, '小明敢唱女人，你这白痴难道不敢跑飞机啊？'],\n",
       " [2.595618510872083e-78, '小崽子可以飞翔战斗机，你这白痴敢拿中学吗？'],\n",
       " [2.429619652618636e-78, '小明有胆量借飞机，侬有本事吃过程吗？'],\n",
       " [2.218348378477885e-78, '白痴敢唱蜗牛，你这个窝囊废有胆量笑中学啊？'],\n",
       " [2.218348378477885e-78, '小白可以玩女人，你这个窝囊废竟敢勾引蜗牛吗？'],\n",
       " [2.218348378477885e-78, '小家伙有胆量吃物理，你这个窝囊废玩中学啊？'],\n",
       " [2.218348378477885e-78, '小家伙有胆量听门，你这个窝囊废难道不敢坐飞机吗？'],\n",
       " [2.218348378477885e-78, '小崽子唱蜗牛，你这个窝囊废有胆量玩思想吗？'],\n",
       " [1.9467138831540625e-78, '小丫头难道不敢开男人，你这白痴听男人吗？'],\n",
       " [1.7354426090133113e-78, '小家伙难道不敢喝棒球，你们有本事笑物理吗？'],\n",
       " [1.4788989189852565e-78, '白痴有胆量玩奥托，你难道不敢玩飞机啊？'],\n",
       " [1.418535697802185e-78, '小明难道不敢吃思想，侬难道不敢看战斗机吗？'],\n",
       " [1.2978092554360418e-78, '小屁孩够胆看男人，你这白痴能接冥王星吗？'],\n",
       " [1.2978092554360416e-78, '小丫头可以借过程，你这白痴竟敢跑女人吗？'],\n",
       " [1.2978092554360416e-78, '能飞翔冥王星，你这白痴够胆拿女人吗？'],\n",
       " [1.2978092554360416e-78, '小明难道不敢看笔，你这白痴竟敢唱女人吗？'],\n",
       " [1.2978092554360416e-78, '小崽子够胆走笔，你这白痴可以跑笔啊？'],\n",
       " [1.2676276448445058e-78, '小屁孩能借猎豹，你这个窝囊废够胆看门啊？'],\n",
       " [1.214809826309318e-78, '小崽子有胆量唱飞机，侬有本事笑蜗牛吗？'],\n",
       " [1.214809826309318e-78, '小白有本事借猎豹，你难道不敢借棒球吗？'],\n",
       " [1.214809826309318e-78, '白痴有胆量开女人，侬有本事吆喝战斗机吗？'],\n",
       " [1.2148098263093177e-78, '小家伙有本事看冥王星，侬有胆量敲战斗机吗？'],\n",
       " [1.2148098263093177e-78, '小白有本事喝男人，侬有胆量勾引猎豹吗？'],\n",
       " [9.507207336333795e-79, '小丫头竟敢盯冥王星，你这个窝囊废可以敲男人吗？'],\n",
       " [9.507207336333794e-79, '小屁孩够胆接女人，你这个窝囊废可以听蜗牛吗？'],\n",
       " [8.677213045066558e-79, '白痴难道不敢盯过程，侬有本事吆喝过程啊？'],\n",
       " [8.677213045066557e-79, '小屁孩有本事说奥托，你们够胆看杉木啊？'],\n",
       " [6.489046277180209e-79, '小家伙够胆飞翔门，你这白痴敢喝物理吗？'],\n",
       " [6.489046277180209e-79, '小家伙难道不敢盯战斗机，你这白痴敢开杉木吗？'],\n",
       " [6.489046277180209e-79, '小家伙够胆飞翔物理，你这白痴够胆唱门啊？'],\n",
       " [6.489046277180208e-79, '小丫头借棒球，你这白痴难道不敢吆喝战斗机吗？'],\n",
       " [6.489046277180208e-79, '小屁孩敢走杉木，你这白痴可以飞翔蜗牛啊？'],\n",
       " [6.489046277180208e-79, '小明能敲中学，你这白痴可以借蜗牛吗？'],\n",
       " [6.489046277180208e-79, '白痴飞翔战斗机，你这白痴够胆走冥王星啊？'],\n",
       " [6.489046277180208e-79, '小明够胆飞翔杉木，你这白痴敢笑笔啊？'],\n",
       " [6.489046277180208e-79, '小白吃物理，你这白痴够胆拿奥托吗？'],\n",
       " [6.489046277180208e-79, '敢笑棒球，你这白痴难道不敢坐棒球啊？'],\n",
       " [6.489046277180208e-79, '白痴竟敢拿女人，你这白痴可以飞翔中学啊？'],\n",
       " [6.489046277180208e-79, '能盯过程，你这白痴难道不敢唱冥王星啊？'],\n",
       " [6.489046277180208e-79, '能吆喝思想，你这白痴够胆坐蜗牛啊？'],\n",
       " [6.489046277180208e-79, '小家伙竟敢开男人，你这白痴竟敢拿思想啊？'],\n",
       " [6.489046277180208e-79, '小明竟敢笑中学，你这白痴够胆开棒球吗？'],\n",
       " [6.489046277180208e-79, '白痴可以喝物理，你这白痴竟敢看战斗机吗？'],\n",
       " [6.489046277180208e-79, '小屁孩可以敲杉木，你这白痴够胆唱物理吗？'],\n",
       " [6.489046277180208e-79, '小家伙看中学，你这白痴难道不敢听思想啊？'],\n",
       " [6.489046277180208e-79, '小明竟敢吆喝战斗机，你这白痴竟敢坐冥王星啊？'],\n",
       " [6.489046277180208e-79, '小崽子竟敢吃中学，你这白痴敢笑思想吗？'],\n",
       " [6.338138224222529e-79, '白痴竟敢开棒球，你这个窝囊废能勾引过程吗？'],\n",
       " [6.338138224222529e-79, '小白竟敢唱飞机，你这个窝囊废竟敢走女人吗？'],\n",
       " [6.338138224222529e-79, '白痴可以飞翔门，你这个窝囊废竟敢接物理啊？'],\n",
       " [6.338138224222529e-79, '小屁孩难道不敢唱门，你这个窝囊废可以敲女人吗？'],\n",
       " [6.338138224222529e-79, '小明够胆拿思想，你这个窝囊废竟敢吆喝过程吗？'],\n",
       " [6.338138224222529e-79, '小丫头竟敢勾引飞机，你这个窝囊废敢吆喝物理啊？'],\n",
       " [5.2817818535187746e-79, '小崽子有胆量看棒球，你们够胆敲猎豹啊？'],\n",
       " [5.2817818535187746e-79, '小家伙难道不敢唱棒球，你们有胆量飞翔战斗机啊？'],\n",
       " [5.2817818535187746e-79, '小崽子够胆盯飞机，你们有胆量喝冥王星啊？'],\n",
       " [5.2817818535187746e-79, '白痴难道不敢喝思想，你们有胆量说棒球吗？'],\n",
       " [3.697247297463141e-79, '小崽子有胆量借奥托，侬有胆量借猎豹吗？'],\n",
       " [3.4708852180266213e-79, '白痴有本事借思想，侬难道不敢开过程吗？'],\n",
       " [3.1690691121112645e-79, '小崽子可以吆喝棒球，你这个窝囊废难道不敢玩笔啊？'],\n",
       " [3.1690691121112645e-79, '难道不敢盯中学，你这个窝囊废够胆借蜗牛吗？'],\n",
       " [3.1690691121112645e-79, '小明竟敢敲猎豹，你这个窝囊废够胆看门啊？'],\n",
       " [3.1690691121112645e-79, '小丫头飞翔过程，你这个窝囊废够胆走冥王星啊？'],\n",
       " [3.1690691121112645e-79, '小明够胆看棒球，你这个窝囊废够胆坐蜗牛啊？'],\n",
       " [3.1690691121112645e-79, '难道不敢勾引奥托，你这个窝囊废敢敲棒球啊？'],\n",
       " [3.1690691121112645e-79, '小白可以吆喝飞机，你这个窝囊废可以喝思想吗？'],\n",
       " [3.1690691121112645e-79, '小白竟敢说过程，你这个窝囊废敢勾引笔啊？'],\n",
       " [3.1690691121112645e-79, '小白敢吆喝男人，你这个窝囊废难道不敢盯棒球啊？'],\n",
       " [3.1690691121112645e-79, '小崽子可以飞翔猎豹，你这个窝囊废能勾引奥托啊？'],\n",
       " [3.1690691121112645e-79, '小屁孩竟敢玩男人，你这个窝囊废可以唱奥托啊？'],\n",
       " [3.1690691121112645e-79, '小白可以敲冥王星，你这个窝囊废竟敢唱杉木啊？'],\n",
       " [3.1690691121112645e-79, '小明难道不敢敲杉木，你这个窝囊废可以唱笔吗？'],\n",
       " [3.1690691121112645e-79, '小家伙敢听过程，你这个窝囊废可以喝猎豹啊？'],\n",
       " [3.1690691121112645e-79, '小家伙能敲中学，你这个窝囊废敢飞翔中学啊？'],\n",
       " [3.1690691121112645e-79, '小白能看战斗机，你这个窝囊废够胆吃冥王星啊？'],\n",
       " [3.1690691121112645e-79, '小家伙竟敢盯过程，你这个窝囊废竟敢飞翔思想吗？'],\n",
       " [3.1690691121112645e-79, '小家伙够胆借棒球，你这个窝囊废敢勾引棒球吗？'],\n",
       " [3.1690691121112645e-79, '小明难道不敢敲蜗牛，你这个窝囊废笑棒球啊？'],\n",
       " [3.1690691121112645e-79, '小崽子竟敢接中学，你这个窝囊废竟敢借冥王星啊？'],\n",
       " [2.6408909267593873e-79, '小丫头有胆量吆喝中学，侬难道不敢开过程啊？'],\n",
       " [2.1127127414075095e-79, '小屁孩有胆量坐过程，侬难道不敢唱飞机啊？'],\n",
       " [2.1127127414075095e-79, '白痴难道不敢吆喝门，你难道不敢吃战斗机啊？'],\n",
       " [1.7354426090133107e-79, '小屁孩有本事盯过程，侬难道不敢走中学啊？'],\n",
       " [1.7354426090133107e-79, '白痴有本事听飞机，侬难道不敢唱奥托吗？'],\n",
       " [1.7354426090133107e-79, '小屁孩有本事开男人，侬够胆拿战斗机吗？'],\n",
       " [1.7354426090133107e-79, '小崽子有本事玩物理，侬难道不敢勾引中学吗？'],\n",
       " [1.0563563707037547e-79, '小崽子有胆量拿冥王星，侬够胆勾引物理啊？'],\n",
       " [5.281781853518774e-80, '小崽子有胆量接杉木，侬够胆说门吗？'],\n",
       " [5.281781853518774e-80, '小明有胆量勾引杉木，侬难道不敢开冥王星啊？'],\n",
       " [5.281781853518774e-80, '小屁孩够胆听女人，侬有胆量跑冥王星吗？'],\n",
       " [5.281781853518774e-80, '小家伙难道不敢盯过程，侬有胆量笑冥王星吗？'],\n",
       " [5.281781853518774e-80, '小崽子难道不敢敲蜗牛，你难道不敢笑战斗机啊？'],\n",
       " [3.7727013239419816e-80, '小明难道不敢勾引猎豹，你们够胆玩猎豹啊？'],\n",
       " [3.7727013239419816e-80, '白痴难道不敢借猎豹，你们够胆看猎豹吗？'],\n",
       " [3.018161059153585e-80, '小家伙难道不敢唱男人，侬难道不敢玩飞机啊？'],\n",
       " [7.545402647883963e-81, '小屁孩难道不敢吆喝过程，你们难道不敢拿物理吗？'],\n",
       " [7.545402647883963e-81, '小丫头难道不敢飞翔过程，侬难道不敢听中学吗？'],\n",
       " [7.545402647883963e-81, '小丫头够胆看物理，侬够胆拿思想啊？'],\n",
       " [1.4165289376232484e-81, '小丫头能看物理，你这白痴有本事吆喝中学吗？'],\n",
       " [6.917932020950748e-82, '小丫头有本事唱中学，你这个窝囊废能看中学啊？'],\n",
       " [2.2835244615574445e-82, '小家伙够胆坐猎豹，你这个窝囊废可以看飞机啊？'],\n",
       " [2.0456573301452096e-82, '小家伙可以看猎豹，你这白痴有胆量坐杉木吗？'],\n",
       " [1.224936331869328e-82, '小崽子能拿棒球，你这白痴有本事开思想啊？'],\n",
       " [1.1935277079752424e-82, '小丫头敢敲中学，你这白痴有本事飞翔女人啊？'],\n",
       " [1.1935277079752424e-82, '白痴竟敢借冥王星，你这白痴有本事走女人啊？'],\n",
       " [8.794414690343893e-83, '小屁孩有本事说过程，你这白痴可以玩飞机啊？'],\n",
       " [7.136013942367013e-83, '小白可以看杉木，你这个窝囊废难道不敢唱过程啊？'],\n",
       " [7.095998910914487e-83, '小明能唱杉木，你这个窝囊废有胆量走女人啊？'],\n",
       " [6.909897256698772e-83, '小丫头够胆唱女人，你这白痴有本事看女人吗？'],\n",
       " [5.025379823053652e-83, '白痴能玩女人，你这白痴有本事敲蜗牛啊？'],\n",
       " [4.397207345171946e-83, '小屁孩有本事盯笔，你这白痴有胆量勾引女人吗？'],\n",
       " [4.206024417120991e-83, '小丫头有胆量说女人，你这白痴敢走飞机啊？'],\n",
       " [3.769034867290239e-83, '白痴有本事接奥托，你这白痴可以听飞机啊？'],\n",
       " [3.52799193973098e-83, '小屁孩有本事看猎豹，你这个窝囊废有本事拿笔啊？'],\n",
       " [3.44796187682593e-83, '小丫头难道不敢看女人，你这个窝囊废能吆喝奥托啊？'],\n",
       " [2.9223676144931574e-83, '白痴难道不敢敲战斗机，你这白痴可以看奥托吗？'],\n",
       " [2.34087933997273e-83, '小屁孩可以走杉木，你这个窝囊废难道不敢说思想啊？'],\n",
       " [2.1408041827101047e-83, '小屁孩可以说物理，你这个窝囊废难道不敢吆喝棒球吗？'],\n",
       " [1.256344955763413e-83, '难道不敢吃冥王星，你这白痴有本事勾引奥托啊？'],\n",
       " [1.073736677309429e-83, '白痴有胆量拿笔，你这个窝囊废有本事玩棒球吗？'],\n",
       " [1.0737366773094288e-83, '小崽子有胆量拿飞机，你这个窝囊废有本事喝门啊？'],\n",
       " [1.0737366773094288e-83, '小屁孩有本事飞翔男人，你这个窝囊废有胆量玩笔吗？'],\n",
       " [7.669547695067348e-84, '小丫头有本事吃中学，你这个窝囊废敢听过程啊？'],\n",
       " [6.535788470579133e-84, '小白有胆量坐笔，你这个窝囊废有胆量看棒球啊？'],\n",
       " [6.4024050324040485e-84, '小屁孩能玩杉木，你这个窝囊废难道不敢喝男人吗？'],\n",
       " [6.2817247788170665e-84, '小屁孩有本事飞翔物理，你这白痴可以吆喝过程吗？'],\n",
       " [6.281724778817065e-84, '够胆喝中学，你这白痴有本事看棒球吗？'],\n",
       " [6.281724778817065e-84, '小崽子可以借战斗机，你这白痴有本事笑过程吗？'],\n",
       " [6.13563815605388e-84, '小家伙敢拿飞机，你这个窝囊废有本事看杉木吗？'],\n",
       " [5.1892509042401865e-84, '小屁孩可以飞翔蜗牛，你这白痴难道不敢跑女人啊？'],\n",
       " [5.1892509042401865e-84, '小丫头难道不敢吆喝过程，你这白痴竟敢吃女人啊？'],\n",
       " [5.1892509042401865e-84, '小丫头竟敢借男人，你这白痴够胆敲女人啊？'],\n",
       " [4.779573201273855e-84, '小丫头竟敢喝中学，你这白痴有胆量玩过程啊？'],\n",
       " [3.1408623894085333e-84, '小崽子有本事勾引门，你这白痴敢走冥王星吗？'],\n",
       " [3.1408623894085333e-84, '小白有本事开女人，你这白痴可以借猎豹吗？'],\n",
       " [3.1408623894085333e-84, '小丫头有本事吆喝男人，你这白痴可以敲中学吗？'],\n",
       " [3.1408623894085323e-84, '小屁孩可以坐男人，你这白痴有本事走物理吗？'],\n",
       " [3.1408623894085323e-84, '小丫头可以借飞机，你这白痴有本事吆喝奥托吗？'],\n",
       " [3.067819078026939e-84, '小崽子有本事坐物理，你这个窝囊废敢敲过程吗？'],\n",
       " [1.911829280509542e-84, '小丫头有胆量勾引男人，你这白痴能敲奥托啊？'],\n",
       " [1.911829280509542e-84, '小屁孩有胆量飞翔思想，你这白痴够胆借过程吗？'],\n",
       " [1.8673681344511808e-84, '小丫头能开过程，你这个窝囊废有胆量看猎豹啊？'],\n",
       " [1.8673681344511808e-84, '小丫头敢拿男人，你这个窝囊废有胆量走物理吗？'],\n",
       " [1.8673681344511808e-84, '小家伙敢拿冥王星，你这个窝囊废有胆量飞翔思想啊？'],\n",
       " [1.8673681344511808e-84, '小屁孩有胆量盯男人，你这个窝囊废敢吆喝飞机啊？'],\n",
       " [1.8006764153636382e-84, '小屁孩难道不敢说飞机，你这个窝囊废竟敢接思想啊？'],\n",
       " [1.6387108118653216e-84, '小崽子能听蜗牛，你这白痴够胆盯冥王星吗？'],\n",
       " [1.53390953901347e-84, '小白难道不敢拿门，你这个窝囊废有本事飞翔笔吗？'],\n",
       " [1.53390953901347e-84, '小屁孩竟敢飞翔中学，你这个窝囊废有本事吃思想啊？'],\n",
       " [1.5339095390134696e-84, '小崽子有本事听物理，你这个窝囊废敢吃冥王星吗？'],\n",
       " [1.5339095390134696e-84, '白痴有本事看蜗牛，你这个窝囊废够胆开冥王星吗？'],\n",
       " [1.5339095390134696e-84, '白痴有本事吆喝女人，你这个窝囊废敢吃战斗机吗？'],\n",
       " [1.5339095390134696e-84, '小丫头有本事接冥王星，你这个窝囊废够胆唱猎豹吗？'],\n",
       " [1.5339095390134696e-84, '白痴有本事跑中学，你这个窝囊废可以吆喝门啊？'],\n",
       " [1.3655923432211018e-84, '小白难道不敢吆喝过程，你这白痴能借过程啊？'],\n",
       " [1.1337592244882172e-84, '小家伙够胆说过程，你这个窝囊废能吃思想吗？'],\n",
       " [9.55914640254771e-85, '小屁孩有胆量拿女人，你这白痴可以接蜗牛啊？'],\n",
       " [9.55914640254771e-85, '小崽子有胆量走杉木，你这白痴竟敢笑中学啊？'],\n",
       " [9.55914640254771e-85, '白痴有胆量飞翔战斗机，你这白痴够胆敲笔啊？'],\n",
       " [9.55914640254771e-85, '小崽子有胆量接冥王星，你这白痴竟敢喝棒球啊？'],\n",
       " [9.55914640254771e-85, '小崽子有胆量走奥托，你这白痴敢吃棒球吗？'],\n",
       " [9.55914640254771e-85, '小丫头有胆量盯奥托，你这白痴可以盯杉木吗？'],\n",
       " [9.55914640254771e-85, '小崽子有胆量勾引笔，你这白痴难道不敢接笔啊？'],\n",
       " [9.559146402547708e-85, '小白够胆吆喝女人，你这白痴有胆量唱猎豹啊？'],\n",
       " [9.559146402547708e-85, '白痴够胆笑物理，你这白痴有胆量跑棒球啊？'],\n",
       " [9.336840672255904e-85, '小屁孩难道不敢飞翔过程，你这个窝囊废可以玩过程吗？'],\n",
       " [9.336840672255904e-85, '难道不敢玩猎豹，你这个窝囊废有胆量吆喝物理啊？'],\n",
       " [9.336840672255904e-85, '小崽子竟敢看物理，你这个窝囊废有胆量借女人吗？'],\n",
       " [8.193554059326608e-85, '小丫头可以笑战斗机，你这白痴难道不敢笑中学吗？'],\n",
       " [6.669171908754217e-85, '小崽子能借思想，你这个窝囊废够胆拿过程啊？'],\n",
       " [5.335337527003374e-85, '白痴难道不敢吃男人，你这个窝囊废能借猎豹吗？'],\n",
       " [4.668420336127952e-85, '小白够胆拿过程，你这个窝囊废有胆量开杉木啊？'],\n",
       " [4.668420336127952e-85, '小丫头有胆量喝猎豹，你这个窝囊废可以喝战斗机吗？'],\n",
       " [4.668420336127952e-85, '小家伙敢吃中学，你这个窝囊废有胆量吆喝蜗牛吗？'],\n",
       " [4.668420336127952e-85, '小屁孩敢吆喝冥王星，你这个窝囊废有胆量笑冥王星啊？'],\n",
       " [4.668420336127952e-85, '小家伙有胆量跑蜗牛，你这个窝囊废敢敲棒球啊？'],\n",
       " [4.668420336127952e-85, '小崽子有胆量喝男人，你这个窝囊废竟敢说冥王星吗？'],\n",
       " [4.668420336127952e-85, '小明有胆量吃过程，你这个窝囊废敢跑棒球啊？'],\n",
       " [2.731184686442203e-85, '小家伙竟敢喝棒球，你这白痴够胆拿物理啊？'],\n",
       " [2.731184686442203e-85, '小崽子竟敢勾引飞机，你这白痴够胆拿过程吗？'],\n",
       " [2.667668763501687e-85, '小丫头难道不敢走冥王星，你这个窝囊废竟敢拿飞机啊？'],\n",
       " [1.3655923432211017e-85, '小丫头够胆盯门，你这白痴可以借猎豹啊？'],\n",
       " [1.3655923432211017e-85, '小白难道不敢飞翔蜗牛，你这白痴敢跑奥托啊？'],\n",
       " [1.3655923432211014e-85, '小崽子可以喝物理，你这白痴够胆敲蜗牛吗？'],\n",
       " [1.3655923432211014e-85, '小丫头竟敢勾引门，你这白痴够胆飞翔猎豹吗？'],\n",
       " [1.3655923432211014e-85, '小明能敲过程，你这白痴够胆看奥托吗？'],\n",
       " [1.3655923432211014e-85, '白痴能盯门，你这白痴难道不敢开蜗牛啊？'],\n",
       " [1.3655923432211014e-85, '小白竟敢接物理，你这白痴够胆说冥王星吗？'],\n",
       " [1.3655923432211014e-85, '小丫头竟敢勾引战斗机，你这白痴够胆勾引思想吗？'],\n",
       " [1.3338343817508435e-85, '小屁孩够胆拿冥王星，你这个窝囊废可以跑猎豹吗？'],\n",
       " [1.3338343817508435e-85, '小丫头难道不敢勾引男人，你这个窝囊废够胆接笔啊？'],\n",
       " [6.669171908754218e-86, '小明可以接战斗机，你这个窝囊废够胆勾引中学吗？'],\n",
       " [6.669171908754218e-86, '难道不敢借女人，你这个窝囊废够胆坐思想啊？'],\n",
       " [6.669171908754218e-86, '小丫头够胆敲猎豹，你这个窝囊废敢笑笔吗？'],\n",
       " [6.669171908754218e-86, '小白难道不敢拿女人，你这个窝囊废竟敢接蜗牛吗？'],\n",
       " [6.669171908754218e-86, '小丫头竟敢接奥托，你这个窝囊废难道不敢走猎豹吗？'],\n",
       " [1.4849019637246123e-89, '小丫头有本事看棒球，你这个窝囊废有本事坐奥托吗？'],\n",
       " [1.1298167115295966e-89, '小白有本事走物理，你这个窝囊废有胆量看过程啊？'],\n",
       " [7.424509818623061e-90, '小崽子有本事看蜗牛，你这个窝囊废有本事说奥托吗？'],\n",
       " [7.424509818623061e-90, '小明有本事笑飞机，你这个窝囊废有本事走冥王星啊？'],\n",
       " [5.431541209465265e-90, '小明难道不敢说飞机，你这白痴有胆量盯冥王星吗？'],\n",
       " [4.626868437692633e-90, '小白有胆量飞翔冥王星，你这白痴有本事开中学啊？'],\n",
       " [4.626868437692633e-90, '小白有本事玩思想，你这白痴有胆量唱棒球啊？'],\n",
       " [4.626868437692633e-90, '小屁孩有本事笑奥托，你这白痴有胆量勾引猎豹啊？'],\n",
       " [4.224532051806317e-90, '白痴有胆量笑战斗机，你这白痴有胆量玩男人吗？'],\n",
       " [3.3049060269233098e-90, '小崽子够胆跑猎豹，你这白痴有本事飞翔过程啊？'],\n",
       " [2.6439248215386476e-90, '小白有本事拿冥王星，你这白痴难道不敢吃奥托吗？'],\n",
       " [2.259633423059193e-90, '小屁孩有本事接女人，你这个窝囊废有胆量吃物理吗？'],\n",
       " [2.259633423059193e-90, '小丫头有胆量接飞机，你这个窝囊废有本事勾引笔吗？'],\n",
       " [1.4081773506021059e-90, '白痴有胆量开思想，你这白痴有胆量玩冥王星啊？'],\n",
       " [8.046727717726319e-91, '小崽子难道不敢拿猎豹，你这白痴有胆量盯飞机啊？'],\n",
       " [6.877145200614936e-91, '小崽子有胆量跑棒球，你这个窝囊废有胆量坐蜗牛吗？'],\n",
       " [6.877145200614936e-91, '小屁孩有胆量接猎豹，你这个窝囊废有胆量喝杉木啊？'],\n",
       " [6.609812053846619e-91, '小屁孩有本事看冥王星，你这白痴难道不敢飞翔战斗机啊？'],\n",
       " [6.609812053846619e-91, '小家伙有本事喝奥托，你这白痴够胆说飞机吗？'],\n",
       " [4.0233638588631596e-91, '白痴够胆飞翔冥王星，你这白痴有胆量飞翔物理啊？'],\n",
       " [4.0233638588631596e-91, '小明有胆量借飞机，你这白痴难道不敢拿物理啊？'],\n",
       " [3.228047747227419e-91, '小丫头够胆拿杉木，你这个窝囊废有本事盯奥托啊？'],\n",
       " [3.228047747227419e-91, '小白难道不敢接棒球，你这个窝囊废有本事喝奥托吗？'],\n",
       " [3.2280477472274185e-91, '小丫头有本事看物理，你这个窝囊废难道不敢飞翔杉木吗？'],\n",
       " [3.2280477472274185e-91, '小丫头有本事借男人，你这个窝囊废难道不敢喝中学吗？'],\n",
       " [2.9473479431206866e-91, '小明有胆量敲中学，你这个窝囊废难道不敢敲男人吗？'],\n",
       " [2.29906506220752e-91, '小丫头够胆飞翔男人，你这白痴难道不敢吃蜗牛啊？'],\n",
       " [2.0116819294315798e-91, '小丫头够胆看物理，你这白痴有胆量看冥王星啊？'],\n",
       " [2.0116819294315798e-91, '小屁孩够胆吃猎豹，你这白痴有胆量走杉木啊？'],\n",
       " [2.0116819294315798e-91, '小屁孩够胆喝女人，你这白痴有胆量勾引门吗？'],\n",
       " [2.0116819294315798e-91, '小崽子有胆量跑蜗牛，你这白痴难道不敢玩杉木吗？'],\n",
       " [2.0116819294315798e-91, '小家伙难道不敢喝奥托，你这白痴有胆量吃思想吗？'],\n",
       " [1.9648986287471245e-91, '小明有胆量敲蜗牛，你这个窝囊废够胆吆喝女人吗？'],\n",
       " [1.9648986287471245e-91, '小屁孩难道不敢笑奥托，你这个窝囊废有胆量笑过程吗？'],\n",
       " [1.14953253110376e-91, '小丫头难道不敢吃过程，你这白痴够胆敲蜗牛吗？'],\n",
       " [1.14953253110376e-91, '小丫头够胆敲棒球，你这白痴难道不敢跑飞机啊？'],\n",
       " [9.824493143735622e-92, '小家伙有胆量笑蜗牛，你这个窝囊废难道不敢接奥托吗？'],\n",
       " [9.824493143735622e-92, '小屁孩有胆量吆喝蜗牛，你这个窝囊废够胆拿战斗机啊？'],\n",
       " [9.824493143735622e-92, '小丫头有胆量吆喝飞机，你这个窝囊废难道不敢开蜗牛啊？'],\n",
       " [2.8738313277594e-92, '小崽子够胆听男人，你这白痴难道不敢拿战斗机吗？'],\n",
       " [2.8738313277594e-92, '小屁孩难道不敢笑飞机，你这白痴够胆走猎豹吗？'],\n",
       " [2.8738313277594e-92, '小家伙难道不敢飞翔奥托，你这白痴难道不敢接冥王星啊？'],\n",
       " [2.8738313277594e-92, '白痴难道不敢飞翔杉木，你这白痴难道不敢盯思想啊？']]"
      ]
     },
     "execution_count": 185,
     "metadata": {},
     "output_type": "execute_result"
    }
   ],
   "source": [
    "mygram"
   ]
  },
  {
   "cell_type": "code",
   "execution_count": 211,
   "metadata": {},
   "outputs": [],
   "source": [
    "filmreview = '''\n",
    "影评 = 陈述 表态\n",
    "陈述 = 电影 状态 半结束\n",
    "电影 = 介词 影片\n",
    "表态 = 连词 人物 判断 动词 助词\n",
    "介词 = 这部 | 那部 | 本 | 该 | 这一部 | 那一部 |\n",
    "影片 = 电影 | 片子 | 片 | movie |  国产片 | 外国片 | 小电影 \n",
    "状态 = 好看 | 是烂片 | 是好片| 是垃圾 | 难得一见 | 烂透了 | 是吴京拍的 | 国产好剧 | 不知所云 | 垃圾中的战斗机 | 不值一提 | 好极了 | 坏透了\n",
    "半结束 = ， | ！ | 。\n",
    "连词 = 但是 | 可是 | 因此 | 所以 | 不过 | 当然 | 然而 | 可惜 | 呵呵， |\n",
    "人物 = 我 | 你 | 他 | 她 | 我们 | 你们 | 他们 | 人民群众 | 国家 | 电影界 | 大家伙\n",
    "判断 = 不 | 就 | 更 | 当然不 | 果然 | 果然不 |\n",
    "动词 =  喜欢| 欣赏 | 爱看 | 免费 | 看 | 买票 | 打高分 | 打低分 | 刷分 | 刷好感 | 丢弃 | 批判 \n",
    "助词 = 了。 | 吧。 | 吗? | 。| ？\n",
    "'''"
   ]
  },
  {
   "cell_type": "markdown",
   "metadata": {},
   "source": [
    "好了，现在我们实现了自己的第一个AI模型，这个模型能够生成比较接近于人类的语言。"
   ]
  },
  {
   "cell_type": "code",
   "execution_count": 212,
   "metadata": {},
   "outputs": [],
   "source": [
    "film_grammar = create_grammar(filmreview)"
   ]
  },
  {
   "cell_type": "code",
   "execution_count": 217,
   "metadata": {},
   "outputs": [],
   "source": [
    "filmgram=generate_best(film_grammar,'影评',n=100000)"
   ]
  },
  {
   "cell_type": "code",
   "execution_count": 218,
   "metadata": {},
   "outputs": [
    {
     "data": {
      "text/plain": [
       "[[1.9613757736266055e-27, '国产片不值一提！他刷分。'],\n",
       " [1.2795660309890816e-32, 'movie是好片！他刷分？'],\n",
       " [1.2795660309890816e-32, '那部片是好片！他刷分？'],\n",
       " [2.8893426506205077e-33, '片好看。他免费。'],\n",
       " [1.6510529432117186e-33, '片不知所云，你们喜欢。'],\n",
       " [8.255264716058593e-34, '该片坏透了。我刷分？'],\n",
       " [4.1276323580292965e-34, '片子不值一提，他不刷分。'],\n",
       " [4.1276323580292965e-34, '本片不值一提！电影界欣赏。'],\n",
       " [4.1276323580292965e-34, '片不知所云，你免费？'],\n",
       " [4.1276323580292965e-34, '片好极了，他们欣赏？']]"
      ]
     },
     "execution_count": 218,
     "metadata": {},
     "output_type": "execute_result"
    }
   ],
   "source": [
    "filmgram[:10]"
   ]
  },
  {
   "cell_type": "markdown",
   "metadata": {},
   "source": [
    "> **评阅点**： 是否使用 lambda 语法进行排序"
   ]
  },
  {
   "cell_type": "markdown",
   "metadata": {},
   "source": [
    "Q: 这个模型有什么问题？ 你准备如何提升？ "
   ]
  },
  {
   "cell_type": "markdown",
   "metadata": {},
   "source": [
    "Ans:"
   ]
  },
  {
   "cell_type": "markdown",
   "metadata": {},
   "source": [
    ">**评阅点**: 是否提出了比较实际的问题，例如OOV问题，例如数据量，例如变成 3-gram问题。"
   ]
  },
  {
   "cell_type": "markdown",
   "metadata": {},
   "source": [
    "##### 以下内容为可选部分，对于绝大多数同学，能完成以上的项目已经很优秀了，下边的内容如果你还有精力可以试试，但不是必须的。"
   ]
  },
  {
   "cell_type": "markdown",
   "metadata": {},
   "source": [
    "#### 4. (Optional) 完成基于Pattern Match的语句问答\n",
    "> 我们的GitHub仓库中，有一个assignment-01-optional-pattern-match，这个难度较大，感兴趣的同学可以挑战一下。"
   ]
  },
  {
   "cell_type": "markdown",
   "metadata": {},
   "source": [
    "\n",
    "#### 5. (Optional) 完成阿兰图灵机器智能原始论文的阅读\n",
    "1. 请阅读阿兰图灵关于机器智能的原始论文：https://github.com/Computing-Intelligence/References/blob/master/AI%20%26%20Machine%20Learning/Computer%20Machinery%20and%20Intelligence.pdf \n",
    "2. 并按照GitHub仓库中的论文阅读模板，填写完毕后发送给我: mqgao@kaikeba.com 谢谢"
   ]
  },
  {
   "cell_type": "markdown",
   "metadata": {},
   "source": [
    "> "
   ]
  },
  {
   "cell_type": "markdown",
   "metadata": {},
   "source": [
    "各位同学，我们已经完成了自己的第一个AI模型，大家对人工智能可能已经有了一些感觉，人工智能的核心就是，我们如何设计一个模型、程序，在外部的输入变化的时候，我们的程序不变，依然能够解决问题。人工智能是一个很大的领域，目前大家所熟知的深度学习只是其中一小部分，之后也肯定会有更多的方法提出来，但是大家知道人工智能的目标，就知道了之后进步的方向。"
   ]
  },
  {
   "cell_type": "markdown",
   "metadata": {},
   "source": [
    "然后，希望大家对AI不要有恐惧感，这个并不难，大家加油！"
   ]
  },
  {
   "cell_type": "markdown",
   "metadata": {},
   "source": [
    ">"
   ]
  },
  {
   "cell_type": "markdown",
   "metadata": {},
   "source": [
    "![](https://timgsa.baidu.com/timg?image&quality=80&size=b9999_10000&sec=1561828422005&di=48d19c16afb6acc9180183a6116088ac&imgtype=0&src=http%3A%2F%2Fb-ssl.duitang.com%2Fuploads%2Fitem%2F201807%2F28%2F20180728150843_BECNF.thumb.224_0.jpeg)"
   ]
  }
 ],
 "metadata": {
  "kernelspec": {
   "display_name": "Python 3",
   "language": "python",
   "name": "python3"
  },
  "language_info": {
   "codemirror_mode": {
    "name": "ipython",
    "version": 3
   },
   "file_extension": ".py",
   "mimetype": "text/x-python",
   "name": "python",
   "nbconvert_exporter": "python",
   "pygments_lexer": "ipython3",
   "version": "3.6.4"
  }
 },
 "nbformat": 4,
 "nbformat_minor": 2
}
